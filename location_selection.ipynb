{
  "cells": [
    {
      "cell_type": "markdown",
      "metadata": {
        "id": "DnopCiuns7vD"
      },
      "source": [
        "# Выбор локации для скважины"
      ]
    },
    {
      "cell_type": "markdown",
      "metadata": {
        "id": "HdXePRpHs7vD"
      },
      "source": [
        "Допустим, вы работаете в добывающей компании «ГлавРосГосНефть». Нужно решить, где бурить новую скважину.\n",
        "\n",
        "Вам предоставлены пробы нефти в трёх регионах: в каждом 10 000 месторождений, где измерили качество нефти и объём её запасов. Постройте модель машинного обучения, которая поможет определить регион, где добыча принесёт наибольшую прибыль. Проанализируйте возможную прибыль и риски техникой *Bootstrap.*\n",
        "\n",
        "Шаги для выбора локации:\n",
        "\n",
        "- В избранном регионе ищут месторождения, для каждого определяют значения признаков;\n",
        "- Строят модель и оценивают объём запасов;\n",
        "- Выбирают месторождения с самым высокими оценками значений. Количество месторождений зависит от бюджета компании и стоимости разработки одной скважины;\n",
        "- Прибыль равна суммарной прибыли отобранных месторождений."
      ]
    },
    {
      "cell_type": "markdown",
      "metadata": {
        "id": "4QUryMGJs7vE"
      },
      "source": [
        "## Загрузка и подготовка данных"
      ]
    },
    {
      "cell_type": "code",
      "execution_count": 1,
      "metadata": {
        "id": "3LXMvg8Is7vE"
      },
      "outputs": [],
      "source": [
        "import pandas as pd\n",
        "import seaborn as sns\n",
        "import plotly.offline as pyo\n",
        "import plotly.graph_objs as go\n",
        "import plotly.express as px\n",
        "from sklearn.preprocessing import StandardScaler\n",
        "from sklearn.model_selection import cross_val_score, train_test_split, GridSearchCV\n",
        "from sklearn.linear_model import LinearRegression\n",
        "from sklearn.metrics import mean_squared_error\n",
        "from sklearn.utils import shuffle\n",
        "from matplotlib import pyplot as plt\n",
        "from scipy import stats as st\n",
        "import numpy as np\n",
        "from numpy.random import RandomState"
      ]
    },
    {
      "cell_type": "code",
      "execution_count": 3,
      "metadata": {
        "id": "tNF8FYcMs7vG"
      },
      "outputs": [],
      "source": [
        "df_1 = pd.read_csv('geo_data_0.csv')\n",
        "df_2 = pd.read_csv('geo_data_1.csv')\n",
        "df_3 = pd.read_csv('geo_data_2.csv')"
      ]
    },
    {
      "cell_type": "code",
      "execution_count": 4,
      "metadata": {
        "id": "GENm2vNzs7vH"
      },
      "outputs": [],
      "source": [
        "# Функция ознакомления с данными\n",
        "def table_of_contents(df):\n",
        "    display(df.head())\n",
        "    print(df.shape)\n",
        "    print(df.describe())"
      ]
    },
    {
      "cell_type": "code",
      "execution_count": 5,
      "metadata": {
        "colab": {
          "base_uri": "https://localhost:8080/",
          "height": 1000
        },
        "id": "mtcH_ajws7vH",
        "outputId": "9c6ac086-a7c1-4a93-c07b-48a2537cbba8"
      },
      "outputs": [
        {
          "output_type": "stream",
          "name": "stdout",
          "text": [
            "Первый регион:\n"
          ]
        },
        {
          "output_type": "display_data",
          "data": {
            "text/plain": [
              "      id        f0        f1        f2     product\n",
              "0  txEyH  0.705745 -0.497823  1.221170  105.280062\n",
              "1  2acmU  1.334711 -0.340164  4.365080   73.037750\n",
              "2  409Wp  1.022732  0.151990  1.419926   85.265647\n",
              "3  iJLyR -0.032172  0.139033  2.978566  168.620776\n",
              "4  Xdl7t  1.988431  0.155413  4.751769  154.036647"
            ],
            "text/html": [
              "\n",
              "  <div id=\"df-ea46fcb9-1276-40ab-a07d-abee10f13ee3\">\n",
              "    <div class=\"colab-df-container\">\n",
              "      <div>\n",
              "<style scoped>\n",
              "    .dataframe tbody tr th:only-of-type {\n",
              "        vertical-align: middle;\n",
              "    }\n",
              "\n",
              "    .dataframe tbody tr th {\n",
              "        vertical-align: top;\n",
              "    }\n",
              "\n",
              "    .dataframe thead th {\n",
              "        text-align: right;\n",
              "    }\n",
              "</style>\n",
              "<table border=\"1\" class=\"dataframe\">\n",
              "  <thead>\n",
              "    <tr style=\"text-align: right;\">\n",
              "      <th></th>\n",
              "      <th>id</th>\n",
              "      <th>f0</th>\n",
              "      <th>f1</th>\n",
              "      <th>f2</th>\n",
              "      <th>product</th>\n",
              "    </tr>\n",
              "  </thead>\n",
              "  <tbody>\n",
              "    <tr>\n",
              "      <th>0</th>\n",
              "      <td>txEyH</td>\n",
              "      <td>0.705745</td>\n",
              "      <td>-0.497823</td>\n",
              "      <td>1.221170</td>\n",
              "      <td>105.280062</td>\n",
              "    </tr>\n",
              "    <tr>\n",
              "      <th>1</th>\n",
              "      <td>2acmU</td>\n",
              "      <td>1.334711</td>\n",
              "      <td>-0.340164</td>\n",
              "      <td>4.365080</td>\n",
              "      <td>73.037750</td>\n",
              "    </tr>\n",
              "    <tr>\n",
              "      <th>2</th>\n",
              "      <td>409Wp</td>\n",
              "      <td>1.022732</td>\n",
              "      <td>0.151990</td>\n",
              "      <td>1.419926</td>\n",
              "      <td>85.265647</td>\n",
              "    </tr>\n",
              "    <tr>\n",
              "      <th>3</th>\n",
              "      <td>iJLyR</td>\n",
              "      <td>-0.032172</td>\n",
              "      <td>0.139033</td>\n",
              "      <td>2.978566</td>\n",
              "      <td>168.620776</td>\n",
              "    </tr>\n",
              "    <tr>\n",
              "      <th>4</th>\n",
              "      <td>Xdl7t</td>\n",
              "      <td>1.988431</td>\n",
              "      <td>0.155413</td>\n",
              "      <td>4.751769</td>\n",
              "      <td>154.036647</td>\n",
              "    </tr>\n",
              "  </tbody>\n",
              "</table>\n",
              "</div>\n",
              "      <button class=\"colab-df-convert\" onclick=\"convertToInteractive('df-ea46fcb9-1276-40ab-a07d-abee10f13ee3')\"\n",
              "              title=\"Convert this dataframe to an interactive table.\"\n",
              "              style=\"display:none;\">\n",
              "        \n",
              "  <svg xmlns=\"http://www.w3.org/2000/svg\" height=\"24px\"viewBox=\"0 0 24 24\"\n",
              "       width=\"24px\">\n",
              "    <path d=\"M0 0h24v24H0V0z\" fill=\"none\"/>\n",
              "    <path d=\"M18.56 5.44l.94 2.06.94-2.06 2.06-.94-2.06-.94-.94-2.06-.94 2.06-2.06.94zm-11 1L8.5 8.5l.94-2.06 2.06-.94-2.06-.94L8.5 2.5l-.94 2.06-2.06.94zm10 10l.94 2.06.94-2.06 2.06-.94-2.06-.94-.94-2.06-.94 2.06-2.06.94z\"/><path d=\"M17.41 7.96l-1.37-1.37c-.4-.4-.92-.59-1.43-.59-.52 0-1.04.2-1.43.59L10.3 9.45l-7.72 7.72c-.78.78-.78 2.05 0 2.83L4 21.41c.39.39.9.59 1.41.59.51 0 1.02-.2 1.41-.59l7.78-7.78 2.81-2.81c.8-.78.8-2.07 0-2.86zM5.41 20L4 18.59l7.72-7.72 1.47 1.35L5.41 20z\"/>\n",
              "  </svg>\n",
              "      </button>\n",
              "      \n",
              "  <style>\n",
              "    .colab-df-container {\n",
              "      display:flex;\n",
              "      flex-wrap:wrap;\n",
              "      gap: 12px;\n",
              "    }\n",
              "\n",
              "    .colab-df-convert {\n",
              "      background-color: #E8F0FE;\n",
              "      border: none;\n",
              "      border-radius: 50%;\n",
              "      cursor: pointer;\n",
              "      display: none;\n",
              "      fill: #1967D2;\n",
              "      height: 32px;\n",
              "      padding: 0 0 0 0;\n",
              "      width: 32px;\n",
              "    }\n",
              "\n",
              "    .colab-df-convert:hover {\n",
              "      background-color: #E2EBFA;\n",
              "      box-shadow: 0px 1px 2px rgba(60, 64, 67, 0.3), 0px 1px 3px 1px rgba(60, 64, 67, 0.15);\n",
              "      fill: #174EA6;\n",
              "    }\n",
              "\n",
              "    [theme=dark] .colab-df-convert {\n",
              "      background-color: #3B4455;\n",
              "      fill: #D2E3FC;\n",
              "    }\n",
              "\n",
              "    [theme=dark] .colab-df-convert:hover {\n",
              "      background-color: #434B5C;\n",
              "      box-shadow: 0px 1px 3px 1px rgba(0, 0, 0, 0.15);\n",
              "      filter: drop-shadow(0px 1px 2px rgba(0, 0, 0, 0.3));\n",
              "      fill: #FFFFFF;\n",
              "    }\n",
              "  </style>\n",
              "\n",
              "      <script>\n",
              "        const buttonEl =\n",
              "          document.querySelector('#df-ea46fcb9-1276-40ab-a07d-abee10f13ee3 button.colab-df-convert');\n",
              "        buttonEl.style.display =\n",
              "          google.colab.kernel.accessAllowed ? 'block' : 'none';\n",
              "\n",
              "        async function convertToInteractive(key) {\n",
              "          const element = document.querySelector('#df-ea46fcb9-1276-40ab-a07d-abee10f13ee3');\n",
              "          const dataTable =\n",
              "            await google.colab.kernel.invokeFunction('convertToInteractive',\n",
              "                                                     [key], {});\n",
              "          if (!dataTable) return;\n",
              "\n",
              "          const docLinkHtml = 'Like what you see? Visit the ' +\n",
              "            '<a target=\"_blank\" href=https://colab.research.google.com/notebooks/data_table.ipynb>data table notebook</a>'\n",
              "            + ' to learn more about interactive tables.';\n",
              "          element.innerHTML = '';\n",
              "          dataTable['output_type'] = 'display_data';\n",
              "          await google.colab.output.renderOutput(dataTable, element);\n",
              "          const docLink = document.createElement('div');\n",
              "          docLink.innerHTML = docLinkHtml;\n",
              "          element.appendChild(docLink);\n",
              "        }\n",
              "      </script>\n",
              "    </div>\n",
              "  </div>\n",
              "  "
            ]
          },
          "metadata": {}
        },
        {
          "output_type": "stream",
          "name": "stdout",
          "text": [
            "(100000, 5)\n",
            "                  f0             f1             f2        product\n",
            "count  100000.000000  100000.000000  100000.000000  100000.000000\n",
            "mean        0.500419       0.250143       2.502647      92.500000\n",
            "std         0.871832       0.504433       3.248248      44.288691\n",
            "min        -1.408605      -0.848218     -12.088328       0.000000\n",
            "25%        -0.072580      -0.200881       0.287748      56.497507\n",
            "50%         0.502360       0.250252       2.515969      91.849972\n",
            "75%         1.073581       0.700646       4.715088     128.564089\n",
            "max         2.362331       1.343769      16.003790     185.364347\n",
            "................ \n",
            "\n",
            "Второй регион:\n"
          ]
        },
        {
          "output_type": "display_data",
          "data": {
            "text/plain": [
              "      id         f0         f1        f2     product\n",
              "0  kBEdx -15.001348  -8.276000 -0.005876    3.179103\n",
              "1  62mP7  14.272088  -3.475083  0.999183   26.953261\n",
              "2  vyE1P   6.263187  -5.948386  5.001160  134.766305\n",
              "3  KcrkZ -13.081196 -11.506057  4.999415  137.945408\n",
              "4  AHL4O  12.702195  -8.147433  5.004363  134.766305"
            ],
            "text/html": [
              "\n",
              "  <div id=\"df-07777c44-960d-4c08-8f03-266feb276e48\">\n",
              "    <div class=\"colab-df-container\">\n",
              "      <div>\n",
              "<style scoped>\n",
              "    .dataframe tbody tr th:only-of-type {\n",
              "        vertical-align: middle;\n",
              "    }\n",
              "\n",
              "    .dataframe tbody tr th {\n",
              "        vertical-align: top;\n",
              "    }\n",
              "\n",
              "    .dataframe thead th {\n",
              "        text-align: right;\n",
              "    }\n",
              "</style>\n",
              "<table border=\"1\" class=\"dataframe\">\n",
              "  <thead>\n",
              "    <tr style=\"text-align: right;\">\n",
              "      <th></th>\n",
              "      <th>id</th>\n",
              "      <th>f0</th>\n",
              "      <th>f1</th>\n",
              "      <th>f2</th>\n",
              "      <th>product</th>\n",
              "    </tr>\n",
              "  </thead>\n",
              "  <tbody>\n",
              "    <tr>\n",
              "      <th>0</th>\n",
              "      <td>kBEdx</td>\n",
              "      <td>-15.001348</td>\n",
              "      <td>-8.276000</td>\n",
              "      <td>-0.005876</td>\n",
              "      <td>3.179103</td>\n",
              "    </tr>\n",
              "    <tr>\n",
              "      <th>1</th>\n",
              "      <td>62mP7</td>\n",
              "      <td>14.272088</td>\n",
              "      <td>-3.475083</td>\n",
              "      <td>0.999183</td>\n",
              "      <td>26.953261</td>\n",
              "    </tr>\n",
              "    <tr>\n",
              "      <th>2</th>\n",
              "      <td>vyE1P</td>\n",
              "      <td>6.263187</td>\n",
              "      <td>-5.948386</td>\n",
              "      <td>5.001160</td>\n",
              "      <td>134.766305</td>\n",
              "    </tr>\n",
              "    <tr>\n",
              "      <th>3</th>\n",
              "      <td>KcrkZ</td>\n",
              "      <td>-13.081196</td>\n",
              "      <td>-11.506057</td>\n",
              "      <td>4.999415</td>\n",
              "      <td>137.945408</td>\n",
              "    </tr>\n",
              "    <tr>\n",
              "      <th>4</th>\n",
              "      <td>AHL4O</td>\n",
              "      <td>12.702195</td>\n",
              "      <td>-8.147433</td>\n",
              "      <td>5.004363</td>\n",
              "      <td>134.766305</td>\n",
              "    </tr>\n",
              "  </tbody>\n",
              "</table>\n",
              "</div>\n",
              "      <button class=\"colab-df-convert\" onclick=\"convertToInteractive('df-07777c44-960d-4c08-8f03-266feb276e48')\"\n",
              "              title=\"Convert this dataframe to an interactive table.\"\n",
              "              style=\"display:none;\">\n",
              "        \n",
              "  <svg xmlns=\"http://www.w3.org/2000/svg\" height=\"24px\"viewBox=\"0 0 24 24\"\n",
              "       width=\"24px\">\n",
              "    <path d=\"M0 0h24v24H0V0z\" fill=\"none\"/>\n",
              "    <path d=\"M18.56 5.44l.94 2.06.94-2.06 2.06-.94-2.06-.94-.94-2.06-.94 2.06-2.06.94zm-11 1L8.5 8.5l.94-2.06 2.06-.94-2.06-.94L8.5 2.5l-.94 2.06-2.06.94zm10 10l.94 2.06.94-2.06 2.06-.94-2.06-.94-.94-2.06-.94 2.06-2.06.94z\"/><path d=\"M17.41 7.96l-1.37-1.37c-.4-.4-.92-.59-1.43-.59-.52 0-1.04.2-1.43.59L10.3 9.45l-7.72 7.72c-.78.78-.78 2.05 0 2.83L4 21.41c.39.39.9.59 1.41.59.51 0 1.02-.2 1.41-.59l7.78-7.78 2.81-2.81c.8-.78.8-2.07 0-2.86zM5.41 20L4 18.59l7.72-7.72 1.47 1.35L5.41 20z\"/>\n",
              "  </svg>\n",
              "      </button>\n",
              "      \n",
              "  <style>\n",
              "    .colab-df-container {\n",
              "      display:flex;\n",
              "      flex-wrap:wrap;\n",
              "      gap: 12px;\n",
              "    }\n",
              "\n",
              "    .colab-df-convert {\n",
              "      background-color: #E8F0FE;\n",
              "      border: none;\n",
              "      border-radius: 50%;\n",
              "      cursor: pointer;\n",
              "      display: none;\n",
              "      fill: #1967D2;\n",
              "      height: 32px;\n",
              "      padding: 0 0 0 0;\n",
              "      width: 32px;\n",
              "    }\n",
              "\n",
              "    .colab-df-convert:hover {\n",
              "      background-color: #E2EBFA;\n",
              "      box-shadow: 0px 1px 2px rgba(60, 64, 67, 0.3), 0px 1px 3px 1px rgba(60, 64, 67, 0.15);\n",
              "      fill: #174EA6;\n",
              "    }\n",
              "\n",
              "    [theme=dark] .colab-df-convert {\n",
              "      background-color: #3B4455;\n",
              "      fill: #D2E3FC;\n",
              "    }\n",
              "\n",
              "    [theme=dark] .colab-df-convert:hover {\n",
              "      background-color: #434B5C;\n",
              "      box-shadow: 0px 1px 3px 1px rgba(0, 0, 0, 0.15);\n",
              "      filter: drop-shadow(0px 1px 2px rgba(0, 0, 0, 0.3));\n",
              "      fill: #FFFFFF;\n",
              "    }\n",
              "  </style>\n",
              "\n",
              "      <script>\n",
              "        const buttonEl =\n",
              "          document.querySelector('#df-07777c44-960d-4c08-8f03-266feb276e48 button.colab-df-convert');\n",
              "        buttonEl.style.display =\n",
              "          google.colab.kernel.accessAllowed ? 'block' : 'none';\n",
              "\n",
              "        async function convertToInteractive(key) {\n",
              "          const element = document.querySelector('#df-07777c44-960d-4c08-8f03-266feb276e48');\n",
              "          const dataTable =\n",
              "            await google.colab.kernel.invokeFunction('convertToInteractive',\n",
              "                                                     [key], {});\n",
              "          if (!dataTable) return;\n",
              "\n",
              "          const docLinkHtml = 'Like what you see? Visit the ' +\n",
              "            '<a target=\"_blank\" href=https://colab.research.google.com/notebooks/data_table.ipynb>data table notebook</a>'\n",
              "            + ' to learn more about interactive tables.';\n",
              "          element.innerHTML = '';\n",
              "          dataTable['output_type'] = 'display_data';\n",
              "          await google.colab.output.renderOutput(dataTable, element);\n",
              "          const docLink = document.createElement('div');\n",
              "          docLink.innerHTML = docLinkHtml;\n",
              "          element.appendChild(docLink);\n",
              "        }\n",
              "      </script>\n",
              "    </div>\n",
              "  </div>\n",
              "  "
            ]
          },
          "metadata": {}
        },
        {
          "output_type": "stream",
          "name": "stdout",
          "text": [
            "(100000, 5)\n",
            "                  f0             f1             f2        product\n",
            "count  100000.000000  100000.000000  100000.000000  100000.000000\n",
            "mean        1.141296      -4.796579       2.494541      68.825000\n",
            "std         8.965932       5.119872       1.703572      45.944423\n",
            "min       -31.609576     -26.358598      -0.018144       0.000000\n",
            "25%        -6.298551      -8.267985       1.000021      26.953261\n",
            "50%         1.153055      -4.813172       2.011479      57.085625\n",
            "75%         8.621015      -1.332816       3.999904     107.813044\n",
            "max        29.421755      18.734063       5.019721     137.945408\n",
            "................ \n",
            "\n",
            "Третий регион:\n"
          ]
        },
        {
          "output_type": "display_data",
          "data": {
            "text/plain": [
              "      id        f0        f1        f2     product\n",
              "0  fwXo0 -1.146987  0.963328 -0.828965   27.758673\n",
              "1  WJtFt  0.262778  0.269839 -2.530187   56.069697\n",
              "2  ovLUW  0.194587  0.289035 -5.586433   62.871910\n",
              "3  q6cA6  2.236060 -0.553760  0.930038  114.572842\n",
              "4  WPMUX -0.515993  1.716266  5.899011  149.600746"
            ],
            "text/html": [
              "\n",
              "  <div id=\"df-a797cd5c-1d5b-4f1f-b037-2b7777ddd25b\">\n",
              "    <div class=\"colab-df-container\">\n",
              "      <div>\n",
              "<style scoped>\n",
              "    .dataframe tbody tr th:only-of-type {\n",
              "        vertical-align: middle;\n",
              "    }\n",
              "\n",
              "    .dataframe tbody tr th {\n",
              "        vertical-align: top;\n",
              "    }\n",
              "\n",
              "    .dataframe thead th {\n",
              "        text-align: right;\n",
              "    }\n",
              "</style>\n",
              "<table border=\"1\" class=\"dataframe\">\n",
              "  <thead>\n",
              "    <tr style=\"text-align: right;\">\n",
              "      <th></th>\n",
              "      <th>id</th>\n",
              "      <th>f0</th>\n",
              "      <th>f1</th>\n",
              "      <th>f2</th>\n",
              "      <th>product</th>\n",
              "    </tr>\n",
              "  </thead>\n",
              "  <tbody>\n",
              "    <tr>\n",
              "      <th>0</th>\n",
              "      <td>fwXo0</td>\n",
              "      <td>-1.146987</td>\n",
              "      <td>0.963328</td>\n",
              "      <td>-0.828965</td>\n",
              "      <td>27.758673</td>\n",
              "    </tr>\n",
              "    <tr>\n",
              "      <th>1</th>\n",
              "      <td>WJtFt</td>\n",
              "      <td>0.262778</td>\n",
              "      <td>0.269839</td>\n",
              "      <td>-2.530187</td>\n",
              "      <td>56.069697</td>\n",
              "    </tr>\n",
              "    <tr>\n",
              "      <th>2</th>\n",
              "      <td>ovLUW</td>\n",
              "      <td>0.194587</td>\n",
              "      <td>0.289035</td>\n",
              "      <td>-5.586433</td>\n",
              "      <td>62.871910</td>\n",
              "    </tr>\n",
              "    <tr>\n",
              "      <th>3</th>\n",
              "      <td>q6cA6</td>\n",
              "      <td>2.236060</td>\n",
              "      <td>-0.553760</td>\n",
              "      <td>0.930038</td>\n",
              "      <td>114.572842</td>\n",
              "    </tr>\n",
              "    <tr>\n",
              "      <th>4</th>\n",
              "      <td>WPMUX</td>\n",
              "      <td>-0.515993</td>\n",
              "      <td>1.716266</td>\n",
              "      <td>5.899011</td>\n",
              "      <td>149.600746</td>\n",
              "    </tr>\n",
              "  </tbody>\n",
              "</table>\n",
              "</div>\n",
              "      <button class=\"colab-df-convert\" onclick=\"convertToInteractive('df-a797cd5c-1d5b-4f1f-b037-2b7777ddd25b')\"\n",
              "              title=\"Convert this dataframe to an interactive table.\"\n",
              "              style=\"display:none;\">\n",
              "        \n",
              "  <svg xmlns=\"http://www.w3.org/2000/svg\" height=\"24px\"viewBox=\"0 0 24 24\"\n",
              "       width=\"24px\">\n",
              "    <path d=\"M0 0h24v24H0V0z\" fill=\"none\"/>\n",
              "    <path d=\"M18.56 5.44l.94 2.06.94-2.06 2.06-.94-2.06-.94-.94-2.06-.94 2.06-2.06.94zm-11 1L8.5 8.5l.94-2.06 2.06-.94-2.06-.94L8.5 2.5l-.94 2.06-2.06.94zm10 10l.94 2.06.94-2.06 2.06-.94-2.06-.94-.94-2.06-.94 2.06-2.06.94z\"/><path d=\"M17.41 7.96l-1.37-1.37c-.4-.4-.92-.59-1.43-.59-.52 0-1.04.2-1.43.59L10.3 9.45l-7.72 7.72c-.78.78-.78 2.05 0 2.83L4 21.41c.39.39.9.59 1.41.59.51 0 1.02-.2 1.41-.59l7.78-7.78 2.81-2.81c.8-.78.8-2.07 0-2.86zM5.41 20L4 18.59l7.72-7.72 1.47 1.35L5.41 20z\"/>\n",
              "  </svg>\n",
              "      </button>\n",
              "      \n",
              "  <style>\n",
              "    .colab-df-container {\n",
              "      display:flex;\n",
              "      flex-wrap:wrap;\n",
              "      gap: 12px;\n",
              "    }\n",
              "\n",
              "    .colab-df-convert {\n",
              "      background-color: #E8F0FE;\n",
              "      border: none;\n",
              "      border-radius: 50%;\n",
              "      cursor: pointer;\n",
              "      display: none;\n",
              "      fill: #1967D2;\n",
              "      height: 32px;\n",
              "      padding: 0 0 0 0;\n",
              "      width: 32px;\n",
              "    }\n",
              "\n",
              "    .colab-df-convert:hover {\n",
              "      background-color: #E2EBFA;\n",
              "      box-shadow: 0px 1px 2px rgba(60, 64, 67, 0.3), 0px 1px 3px 1px rgba(60, 64, 67, 0.15);\n",
              "      fill: #174EA6;\n",
              "    }\n",
              "\n",
              "    [theme=dark] .colab-df-convert {\n",
              "      background-color: #3B4455;\n",
              "      fill: #D2E3FC;\n",
              "    }\n",
              "\n",
              "    [theme=dark] .colab-df-convert:hover {\n",
              "      background-color: #434B5C;\n",
              "      box-shadow: 0px 1px 3px 1px rgba(0, 0, 0, 0.15);\n",
              "      filter: drop-shadow(0px 1px 2px rgba(0, 0, 0, 0.3));\n",
              "      fill: #FFFFFF;\n",
              "    }\n",
              "  </style>\n",
              "\n",
              "      <script>\n",
              "        const buttonEl =\n",
              "          document.querySelector('#df-a797cd5c-1d5b-4f1f-b037-2b7777ddd25b button.colab-df-convert');\n",
              "        buttonEl.style.display =\n",
              "          google.colab.kernel.accessAllowed ? 'block' : 'none';\n",
              "\n",
              "        async function convertToInteractive(key) {\n",
              "          const element = document.querySelector('#df-a797cd5c-1d5b-4f1f-b037-2b7777ddd25b');\n",
              "          const dataTable =\n",
              "            await google.colab.kernel.invokeFunction('convertToInteractive',\n",
              "                                                     [key], {});\n",
              "          if (!dataTable) return;\n",
              "\n",
              "          const docLinkHtml = 'Like what you see? Visit the ' +\n",
              "            '<a target=\"_blank\" href=https://colab.research.google.com/notebooks/data_table.ipynb>data table notebook</a>'\n",
              "            + ' to learn more about interactive tables.';\n",
              "          element.innerHTML = '';\n",
              "          dataTable['output_type'] = 'display_data';\n",
              "          await google.colab.output.renderOutput(dataTable, element);\n",
              "          const docLink = document.createElement('div');\n",
              "          docLink.innerHTML = docLinkHtml;\n",
              "          element.appendChild(docLink);\n",
              "        }\n",
              "      </script>\n",
              "    </div>\n",
              "  </div>\n",
              "  "
            ]
          },
          "metadata": {}
        },
        {
          "output_type": "stream",
          "name": "stdout",
          "text": [
            "(100000, 5)\n",
            "                  f0             f1             f2        product\n",
            "count  100000.000000  100000.000000  100000.000000  100000.000000\n",
            "mean        0.002023      -0.002081       2.495128      95.000000\n",
            "std         1.732045       1.730417       3.473445      44.749921\n",
            "min        -8.760004      -7.084020     -11.970335       0.000000\n",
            "25%        -1.162288      -1.174820       0.130359      59.450441\n",
            "50%         0.009424      -0.009482       2.484236      94.925613\n",
            "75%         1.158535       1.163678       4.858794     130.595027\n",
            "max         7.238262       7.844801      16.739402     190.029838\n"
          ]
        }
      ],
      "source": [
        "print('Первый регион:')\n",
        "table_of_contents(df_1)\n",
        "print('................', '\\n')\n",
        "\n",
        "print('Второй регион:')\n",
        "table_of_contents(df_2)\n",
        "print('................', '\\n')\n",
        "\n",
        "print('Третий регион:')\n",
        "table_of_contents(df_3)"
      ]
    },
    {
      "cell_type": "markdown",
      "metadata": {
        "id": "Kuw2MhX3s7vI"
      },
      "source": [
        "## Обучение и проверка модели"
      ]
    },
    {
      "cell_type": "markdown",
      "metadata": {
        "id": "JGN8Bb3gs7vJ"
      },
      "source": [
        "**Целевой признак - объём запасов в скважине (тыс. баррелей). Остальные столбцы - признаки точек**"
      ]
    },
    {
      "cell_type": "code",
      "execution_count": 6,
      "metadata": {
        "id": "yBjjhh6rs7vJ"
      },
      "outputs": [],
      "source": [
        "def ml(df):\n",
        "    features = df.drop(['product', 'id'], axis = 1)\n",
        "    target = df['product']\n",
        "    features_train, features_valid, target_train, target_valid = train_test_split(\n",
        "        features, target, test_size = 0.25, random_state = 12345)\n",
        "    # Объявление модели\n",
        "    model = LinearRegression()\n",
        "\n",
        "    # Обучене модели на тренировочной выборке\n",
        "    model.fit(features_train, target_train)\n",
        "\n",
        "    # Предсказания модели на валидационной выборке\n",
        "    predictions = model.predict(features_valid)\n",
        "\n",
        "    # Вычисление MSE и RMSE\n",
        "    mse = mean_squared_error(target_valid, predictions)\n",
        "    rmse = mse ** 0.5\n",
        "\n",
        "    # Вычисление среднего запаса предсказанного сырья\n",
        "    mean_prod = predictions.mean()\n",
        "    \n",
        "    #print('Средний запас предсказанного сырья: ', mean_prod)\n",
        "    #print('RMSE: ', rmse)\n",
        "    return(mean_prod, rmse, predictions, target_valid)"
      ]
    },
    {
      "cell_type": "markdown",
      "metadata": {
        "id": "mMUWggYDs7vJ"
      },
      "source": [
        "**Вывод результатов:**"
      ]
    },
    {
      "cell_type": "code",
      "execution_count": 7,
      "metadata": {
        "colab": {
          "base_uri": "https://localhost:8080/"
        },
        "id": "3lYvNt4qs7vK",
        "outputId": "bc3ee630-8e00-4938-9b5d-1a3e9edd64af"
      },
      "outputs": [
        {
          "output_type": "stream",
          "name": "stdout",
          "text": [
            "Первый регион: \n",
            "\n",
            "Средний запас предсказанного сырья:  92.59256778438035\n",
            "RMSE:  37.5794217150813\n",
            "................ \n",
            "\n",
            "Второй регион: \n",
            "\n",
            "Средний запас предсказанного сырья:  68.728546895446\n",
            "RMSE:  0.893099286775617\n",
            "................ \n",
            "\n",
            "Третий регион: \n",
            "\n",
            "Средний запас предсказанного сырья:  94.96504596800489\n",
            "RMSE:  40.02970873393434\n",
            "................ \n",
            "\n"
          ]
        }
      ],
      "source": [
        "print('Первый регион:', '\\n')\n",
        "mean_prod, rmse, predictions_1, target_valid_1 = ml(df_1)\n",
        "print('Средний запас предсказанного сырья: ', mean_prod)\n",
        "print('RMSE: ', rmse)\n",
        "print('................', '\\n')\n",
        "\n",
        "\n",
        "print('Второй регион:', '\\n')\n",
        "mean_prod, rmse, predictions_2, target_valid_2 = ml(df_2)\n",
        "print('Средний запас предсказанного сырья: ', mean_prod)\n",
        "print('RMSE: ', rmse)\n",
        "print('................', '\\n')\n",
        "\n",
        "\n",
        "print('Третий регион:', '\\n')\n",
        "mean_prod, rmse, predictions_3, target_valid_3 = ml(df_3)\n",
        "print('Средний запас предсказанного сырья: ', mean_prod)\n",
        "print('RMSE: ', rmse)\n",
        "print('................', '\\n')"
      ]
    },
    {
      "cell_type": "markdown",
      "metadata": {
        "id": "GbvrwZd5s7vL"
      },
      "source": [
        "**Регион 1:**\n",
        "- Второе место по запасу сырья и по показателю средней ошибки"
      ]
    },
    {
      "cell_type": "markdown",
      "metadata": {
        "id": "cbbmJOzss7vL"
      },
      "source": [
        "**Регион 2:**\n",
        "- Самый низкий запас сырья, но самый низкий показатель ошибки"
      ]
    },
    {
      "cell_type": "markdown",
      "metadata": {
        "id": "qKxksCWEs7vL"
      },
      "source": [
        "**Регион 3:**\n",
        "- Самый высокий запас сырья, но при этом самый высокий показатель ошибки"
      ]
    },
    {
      "cell_type": "markdown",
      "metadata": {
        "id": "rW0itdgTs7vM"
      },
      "source": [
        "## Подготовка к расчёту прибыли"
      ]
    },
    {
      "cell_type": "code",
      "execution_count": 9,
      "metadata": {
        "id": "ju1R2bx7s7vN"
      },
      "outputs": [],
      "source": [
        "DEV_BUDGET = 10**10  # Бюджет на разработку всех скважин в регионе (руб)\n",
        "\n",
        "AMOUNT_REG = 200   # Количество скважин в регионе (по условию - выбирают 200 точек)\n",
        "\n",
        "INCOME_1PROD = 450000  # Доход от 1 тыс.баррелей (руб)"
      ]
    },
    {
      "cell_type": "code",
      "execution_count": 10,
      "metadata": {
        "scrolled": true,
        "colab": {
          "base_uri": "https://localhost:8080/"
        },
        "id": "q-n_Sn9ws7vN",
        "outputId": "52af88be-4e6a-49db-d5f3-56d47295ea6e"
      },
      "outputs": [
        {
          "output_type": "stream",
          "name": "stdout",
          "text": [
            "Необходимый объем сырья для региона:\n",
            "22222.222222222223 тыс.баррелей \n",
            "\n",
            "Необходимый объем сырья для одной скважины в среднем:\n",
            "111.11111111111111 тыс.баррелей \n",
            "\n",
            "Необходимый средний доход с одной скважины:\n",
            "50000000.0\n"
          ]
        }
      ],
      "source": [
        "print('Необходимый объем сырья для региона:')\n",
        "VOL = DEV_BUDGET / INCOME_1PROD\n",
        "print(VOL, 'тыс.баррелей', '\\n')\n",
        "\n",
        "print('Необходимый объем сырья для одной скважины в среднем:')\n",
        "print(VOL/AMOUNT_REG, 'тыс.баррелей', '\\n')\n",
        "\n",
        "INCOME_ONE = DEV_BUDGET / AMOUNT_REG\n",
        "print('Необходимый средний доход с одной скважины:')\n",
        "print(INCOME_ONE)"
      ]
    },
    {
      "cell_type": "markdown",
      "metadata": {
        "id": "8iOCIxhas7vN"
      },
      "source": [
        "**Если сравнивать результат, то окажется, что необходимый объем для безубыточной разработки выше, чем средний запас в каждом регионе**"
      ]
    },
    {
      "cell_type": "code",
      "execution_count": 11,
      "metadata": {
        "id": "22yKkYdIs7vO"
      },
      "outputs": [],
      "source": [
        "# Функция перевода predictions в series и сброса индексов в target\n",
        "def ser(predictions, target):\n",
        "    predictions = pd.Series(predictions)\n",
        "    target = target.reset_index(drop = True)\n",
        "    return predictions, target\n",
        "predictions_1, target_valid_1 = ser(predictions_1, target_valid_1)\n",
        "predictions_2, target_valid_2 = ser(predictions_2, target_valid_2)\n",
        "predictions_3, target_valid_3 = ser(predictions_3, target_valid_3)"
      ]
    },
    {
      "cell_type": "markdown",
      "metadata": {
        "id": "0c04eGtos7vP"
      },
      "source": [
        "**Функция расчета прибыли**"
      ]
    },
    {
      "cell_type": "code",
      "execution_count": 13,
      "metadata": {
        "scrolled": true,
        "id": "OcKWTh3Ps7vP"
      },
      "outputs": [],
      "source": [
        "def profit(target, predictions):\n",
        "    \n",
        "    # Расчет запсов для целевых значений количества сырья по индексам лучших предсказаний модели\n",
        "    pr_sorted = predictions.sort_values(ascending=False)\n",
        "    selected = target[pr_sorted.index][:200]\n",
        "    \n",
        "    # Просуммируем результат\n",
        "    summ = selected.sum() \n",
        "    \n",
        "    # Вычтем бюджет из суммы, чтобы сразу получить чистую прибыль\n",
        "    return round((summ * INCOME_1PROD) - DEV_BUDGET,2)"
      ]
    },
    {
      "cell_type": "markdown",
      "metadata": {
        "id": "ankiCqUJs7vQ"
      },
      "source": [
        "## Расчёт прибыли и рисков "
      ]
    },
    {
      "cell_type": "code",
      "execution_count": 16,
      "metadata": {
        "id": "7huh_wpks7vR"
      },
      "outputs": [],
      "source": [
        "def calculation(target, predictions):\n",
        "    state = np.random.RandomState(12345)\n",
        "    \n",
        "    values = []\n",
        "    for i in range(1000):\n",
        "        target_subsample = target.sample(n = 500, replace = True, random_state = state)\n",
        "        pr_subsample = predictions[target_subsample.index]  \n",
        "        values.append(profit(target_subsample, pr_subsample))\n",
        "\n",
        "    values = pd.Series(values)\n",
        "    lower = values.quantile(0.025)\n",
        "    upper = values.quantile(0.975)\n",
        "    mean = values.mean()\n",
        "\n",
        "    print(\"Процент риска\", values.apply(lambda x: x < 0).sum()/len(values)*100,\"%\")\n",
        "    print(\"Средняя прибыль:\", mean, 'руб')\n",
        "    print(\"2.5%-квантиль:\", lower,)\n",
        "    print(\"97.5%-квантиль:\", upper)"
      ]
    },
    {
      "cell_type": "code",
      "execution_count": 17,
      "metadata": {
        "colab": {
          "base_uri": "https://localhost:8080/"
        },
        "id": "VM6eQ9_Zs7vR",
        "outputId": "1e690f40-a3e7-4426-82ad-0bc8ffec86e2"
      },
      "outputs": [
        {
          "output_type": "stream",
          "name": "stdout",
          "text": [
            "Первый регион:\n",
            "Процент риска 6.0 %\n",
            "Средняя прибыль: 425938526.91045994 руб\n",
            "2.5%-квантиль: -102090094.84225\n",
            "97.5%-квантиль: 947976353.3625\n",
            "................. \n",
            "\n",
            "Второй регион:\n",
            "Процент риска 1.0 %\n",
            "Средняя прибыль: 515222773.44336 руб\n",
            "2.5%-квантиль: 68873225.366\n",
            "97.5%-квантиль: 931547591.2524999\n",
            "................. \n",
            "\n",
            "Третий регион:\n",
            "Процент риска 6.4 %\n",
            "Средняя прибыль: 435008362.78263 руб\n",
            "2.5%-квантиль: -128880547.3315\n",
            "97.5%-квантиль: 969706954.183\n"
          ]
        }
      ],
      "source": [
        "print('Первый регион:')\n",
        "calculation(target_valid_1, predictions_1)\n",
        "print('.................', '\\n')\n",
        "\n",
        "print('Второй регион:')\n",
        "calculation(target_valid_2, predictions_2)\n",
        "print('.................', '\\n')\n",
        "\n",
        "print('Третий регион:')\n",
        "calculation(target_valid_3, predictions_3)"
      ]
    },
    {
      "cell_type": "markdown",
      "metadata": {
        "id": "6_Gcqe5Fs7vU"
      },
      "source": [
        "**Рассмотрим полученные характеристики**"
      ]
    },
    {
      "cell_type": "markdown",
      "metadata": {
        "id": "TxQAdJyXs7vU"
      },
      "source": [
        "**Регион 1:**\n",
        "- Процент риска: 6%\n",
        "- 95%-ый доверительный интервал: [-102 млн 090 тыс; 947 млн 976 тыс]\n",
        "- Средняя прибыль: 425 млн 938 тыс рублей"
      ]
    },
    {
      "cell_type": "markdown",
      "metadata": {
        "id": "IWDEZT38s7vU"
      },
      "source": [
        "**Регион 2:**\n",
        "- Процент риска: 1.0%\n",
        "- 95%-ый доверительный интервал: [68 млн 873 тыс; 931 млн 547 тыс]\n",
        "- Средняя прибыль: 515 млн 222 тыс рублей"
      ]
    },
    {
      "cell_type": "markdown",
      "metadata": {
        "id": "3BN9RAkxs7vV"
      },
      "source": [
        "**Регион 3:**\n",
        "- Процент риска: 6.4%\n",
        "- 95%-ый доверительный интервал: [-128 млн 880 тыс; 969 млн 706 тыс]\n",
        "- Средняя прибыль: 435 млн 8 тыс рублей"
      ]
    },
    {
      "cell_type": "markdown",
      "metadata": {
        "id": "O_SRKcMus7vV"
      },
      "source": [
        "**Согласно условию, регион должен принести 10 млрд рублей.**\n",
        "- Вероятность убытка в первом регионе больше 2.5%, т.к. 2.5% квантилю соответствует значение -102 млн. Этот регион не подходит под условие  \n",
        "- Второй регион подходит под условие и имеет наименьший процент риска. Также второй регион имеет большую среднюю прибыль  \n",
        "- Третий регион имеет процент риска выше 6.4% и 2.5% квантиль соответствует отрицательной прибыли, а, значит, под условие не подходит. Данный регион больше не рассматривается"
      ]
    },
    {
      "cell_type": "markdown",
      "metadata": {
        "id": "SFH-nX0Xs7vV"
      },
      "source": [
        "**Рекомендация для разработки: регион 2.  \n",
        "Высокий потенциал обусловлен низким проентом риска, а также высокой прибылью**"
      ]
    }
  ],
  "metadata": {
    "ExecuteTimeLog": [
      {
        "duration": 402,
        "start_time": "2022-09-24T12:15:20.031Z"
      },
      {
        "duration": 760,
        "start_time": "2022-09-24T12:19:21.820Z"
      },
      {
        "duration": 15,
        "start_time": "2022-09-24T12:19:43.263Z"
      },
      {
        "duration": 9,
        "start_time": "2022-09-24T12:19:49.620Z"
      },
      {
        "duration": 9,
        "start_time": "2022-09-24T12:19:53.753Z"
      },
      {
        "duration": 1159,
        "start_time": "2022-09-24T12:21:57.141Z"
      },
      {
        "duration": 13,
        "start_time": "2022-09-24T12:22:19.266Z"
      },
      {
        "duration": 21,
        "start_time": "2022-09-24T12:22:30.096Z"
      },
      {
        "duration": 103,
        "start_time": "2022-09-24T12:22:53.398Z"
      },
      {
        "duration": 70,
        "start_time": "2022-09-24T12:22:57.214Z"
      },
      {
        "duration": 4,
        "start_time": "2022-09-24T12:23:00.213Z"
      },
      {
        "duration": 3,
        "start_time": "2022-09-24T12:23:14.382Z"
      },
      {
        "duration": 34,
        "start_time": "2022-09-24T12:23:33.997Z"
      },
      {
        "duration": 80,
        "start_time": "2022-09-24T12:23:58.063Z"
      },
      {
        "duration": 78,
        "start_time": "2022-09-24T12:24:19.908Z"
      },
      {
        "duration": 110,
        "start_time": "2022-09-24T12:24:41.592Z"
      },
      {
        "duration": 87,
        "start_time": "2022-09-24T12:24:47.820Z"
      },
      {
        "duration": 25,
        "start_time": "2022-09-24T12:29:34.419Z"
      },
      {
        "duration": 51,
        "start_time": "2022-09-24T12:33:20.493Z"
      },
      {
        "duration": 87,
        "start_time": "2022-09-24T12:35:01.476Z"
      },
      {
        "duration": 52,
        "start_time": "2022-09-24T12:35:11.150Z"
      },
      {
        "duration": 10,
        "start_time": "2022-09-24T12:36:12.690Z"
      },
      {
        "duration": 13,
        "start_time": "2022-09-24T12:38:03.128Z"
      },
      {
        "duration": 2,
        "start_time": "2022-09-24T12:38:27.576Z"
      },
      {
        "duration": 33,
        "start_time": "2022-09-24T12:39:37.558Z"
      },
      {
        "duration": 9,
        "start_time": "2022-09-24T12:40:22.458Z"
      },
      {
        "duration": 27,
        "start_time": "2022-09-24T12:40:24.698Z"
      },
      {
        "duration": 10,
        "start_time": "2022-09-24T12:40:24.890Z"
      },
      {
        "duration": 61,
        "start_time": "2022-09-24T12:40:25.077Z"
      },
      {
        "duration": 4,
        "start_time": "2022-09-24T12:42:58.116Z"
      },
      {
        "duration": 12,
        "start_time": "2022-09-24T12:43:16.101Z"
      },
      {
        "duration": 13,
        "start_time": "2022-09-24T12:43:48.413Z"
      },
      {
        "duration": 36,
        "start_time": "2022-09-24T12:45:00.501Z"
      },
      {
        "duration": 11,
        "start_time": "2022-09-24T12:45:13.692Z"
      },
      {
        "duration": 12,
        "start_time": "2022-09-24T12:45:59.282Z"
      },
      {
        "duration": 13,
        "start_time": "2022-09-24T12:46:07.781Z"
      },
      {
        "duration": 15,
        "start_time": "2022-09-24T12:46:27.803Z"
      },
      {
        "duration": 20,
        "start_time": "2022-09-24T12:46:37.626Z"
      },
      {
        "duration": 20,
        "start_time": "2022-09-24T12:48:04.977Z"
      },
      {
        "duration": 13,
        "start_time": "2022-09-24T12:48:14.071Z"
      },
      {
        "duration": 20,
        "start_time": "2022-09-24T12:49:36.185Z"
      },
      {
        "duration": 14,
        "start_time": "2022-09-24T12:49:38.121Z"
      },
      {
        "duration": 17,
        "start_time": "2022-09-24T12:50:53.664Z"
      },
      {
        "duration": 3,
        "start_time": "2022-09-24T13:58:06.588Z"
      },
      {
        "duration": 3,
        "start_time": "2022-09-24T14:02:18.530Z"
      },
      {
        "duration": 3,
        "start_time": "2022-09-24T14:09:05.955Z"
      },
      {
        "duration": 3,
        "start_time": "2022-09-24T14:09:17.796Z"
      },
      {
        "duration": 4,
        "start_time": "2022-09-24T14:11:47.767Z"
      },
      {
        "duration": 3,
        "start_time": "2022-09-24T14:12:44.653Z"
      },
      {
        "duration": 8,
        "start_time": "2022-09-24T14:24:04.566Z"
      },
      {
        "duration": 4,
        "start_time": "2022-09-24T14:24:08.401Z"
      },
      {
        "duration": 4,
        "start_time": "2022-09-24T14:24:08.782Z"
      },
      {
        "duration": 3,
        "start_time": "2022-09-24T14:32:10.071Z"
      },
      {
        "duration": 3,
        "start_time": "2022-09-24T14:32:10.421Z"
      },
      {
        "duration": 4,
        "start_time": "2022-09-24T14:33:07.265Z"
      },
      {
        "duration": 3,
        "start_time": "2022-09-24T14:33:17.726Z"
      },
      {
        "duration": 4,
        "start_time": "2022-09-24T14:33:26.227Z"
      },
      {
        "duration": 4,
        "start_time": "2022-09-24T14:35:07.846Z"
      },
      {
        "duration": 3,
        "start_time": "2022-09-24T14:35:32.033Z"
      },
      {
        "duration": 3,
        "start_time": "2022-09-24T14:36:06.563Z"
      },
      {
        "duration": 3,
        "start_time": "2022-09-24T14:36:34.689Z"
      },
      {
        "duration": 3,
        "start_time": "2022-09-24T14:36:35.040Z"
      },
      {
        "duration": 3,
        "start_time": "2022-09-24T14:37:35.965Z"
      },
      {
        "duration": 4,
        "start_time": "2022-09-24T14:39:55.250Z"
      },
      {
        "duration": 3,
        "start_time": "2022-09-24T14:40:57.261Z"
      },
      {
        "duration": 3,
        "start_time": "2022-09-24T14:42:05.891Z"
      },
      {
        "duration": 3,
        "start_time": "2022-09-24T14:42:46.665Z"
      },
      {
        "duration": 4,
        "start_time": "2022-09-24T14:43:57.817Z"
      },
      {
        "duration": 3,
        "start_time": "2022-09-24T14:45:08.407Z"
      },
      {
        "duration": 4,
        "start_time": "2022-09-24T14:45:10.231Z"
      },
      {
        "duration": 4,
        "start_time": "2022-09-24T14:46:06.366Z"
      },
      {
        "duration": 3,
        "start_time": "2022-09-24T14:46:06.711Z"
      },
      {
        "duration": 3,
        "start_time": "2022-09-24T14:47:50.597Z"
      },
      {
        "duration": 4,
        "start_time": "2022-09-24T14:47:50.921Z"
      },
      {
        "duration": 3,
        "start_time": "2022-09-24T14:48:11.504Z"
      },
      {
        "duration": 3,
        "start_time": "2022-09-24T14:48:11.763Z"
      },
      {
        "duration": 2,
        "start_time": "2022-09-24T14:48:40.552Z"
      },
      {
        "duration": 3,
        "start_time": "2022-09-24T14:48:41.294Z"
      },
      {
        "duration": 3,
        "start_time": "2022-09-24T14:50:08.722Z"
      },
      {
        "duration": 4,
        "start_time": "2022-09-24T14:50:09.083Z"
      },
      {
        "duration": 4,
        "start_time": "2022-09-24T14:50:37.583Z"
      },
      {
        "duration": 2,
        "start_time": "2022-09-24T14:51:02.463Z"
      },
      {
        "duration": 3,
        "start_time": "2022-09-24T14:51:02.771Z"
      },
      {
        "duration": 3,
        "start_time": "2022-09-24T14:52:59.324Z"
      },
      {
        "duration": 4,
        "start_time": "2022-09-24T14:52:59.596Z"
      },
      {
        "duration": 3,
        "start_time": "2022-09-24T14:53:12.034Z"
      },
      {
        "duration": 3,
        "start_time": "2022-09-24T14:56:08.390Z"
      },
      {
        "duration": 4,
        "start_time": "2022-09-24T14:56:08.798Z"
      },
      {
        "duration": 3,
        "start_time": "2022-09-24T14:56:17.081Z"
      },
      {
        "duration": 3,
        "start_time": "2022-09-24T14:56:17.378Z"
      },
      {
        "duration": 3,
        "start_time": "2022-09-24T14:59:46.789Z"
      },
      {
        "duration": 4,
        "start_time": "2022-09-24T15:01:00.270Z"
      },
      {
        "duration": 60,
        "start_time": "2022-09-24T15:02:48.814Z"
      },
      {
        "duration": 8,
        "start_time": "2022-09-24T15:02:53.787Z"
      },
      {
        "duration": 6,
        "start_time": "2022-09-24T15:03:18.035Z"
      },
      {
        "duration": 48,
        "start_time": "2022-09-24T15:03:23.654Z"
      },
      {
        "duration": 8,
        "start_time": "2022-09-24T15:03:26.806Z"
      },
      {
        "duration": 71,
        "start_time": "2022-09-24T15:04:47.851Z"
      },
      {
        "duration": 8,
        "start_time": "2022-09-24T15:04:53.315Z"
      },
      {
        "duration": 7,
        "start_time": "2022-09-24T15:05:07.064Z"
      },
      {
        "duration": 8,
        "start_time": "2022-09-24T15:05:16.440Z"
      },
      {
        "duration": 9,
        "start_time": "2022-09-24T15:07:20.551Z"
      },
      {
        "duration": 8,
        "start_time": "2022-09-24T15:08:10.032Z"
      },
      {
        "duration": 6,
        "start_time": "2022-09-24T15:10:03.390Z"
      },
      {
        "duration": 7,
        "start_time": "2022-09-24T15:10:09.532Z"
      },
      {
        "duration": 8,
        "start_time": "2022-09-24T15:13:00.116Z"
      },
      {
        "duration": 3,
        "start_time": "2022-09-24T15:13:03.758Z"
      },
      {
        "duration": 3,
        "start_time": "2022-09-24T15:13:28.921Z"
      },
      {
        "duration": 4,
        "start_time": "2022-09-24T15:18:47.415Z"
      },
      {
        "duration": 3,
        "start_time": "2022-09-24T15:20:26.936Z"
      },
      {
        "duration": 4,
        "start_time": "2022-09-24T15:23:32.486Z"
      },
      {
        "duration": 14,
        "start_time": "2022-09-24T15:27:19.463Z"
      },
      {
        "duration": 4,
        "start_time": "2022-09-24T15:27:39.860Z"
      },
      {
        "duration": 5,
        "start_time": "2022-09-24T15:27:45.525Z"
      },
      {
        "duration": 11,
        "start_time": "2022-09-24T15:28:35.747Z"
      },
      {
        "duration": 13,
        "start_time": "2022-09-24T15:29:04.639Z"
      },
      {
        "duration": 19,
        "start_time": "2022-09-24T15:33:41.452Z"
      },
      {
        "duration": 20,
        "start_time": "2022-09-24T15:34:10.567Z"
      },
      {
        "duration": 16,
        "start_time": "2022-09-24T15:34:59.417Z"
      },
      {
        "duration": 25,
        "start_time": "2022-09-24T15:35:16.385Z"
      },
      {
        "duration": 11,
        "start_time": "2022-09-24T15:37:32.247Z"
      },
      {
        "duration": 5,
        "start_time": "2022-09-24T15:37:50.562Z"
      },
      {
        "duration": 4,
        "start_time": "2022-09-24T15:37:58.214Z"
      },
      {
        "duration": 10,
        "start_time": "2022-09-24T15:38:35.694Z"
      },
      {
        "duration": 4,
        "start_time": "2022-09-24T16:15:47.539Z"
      },
      {
        "duration": 5,
        "start_time": "2022-09-24T16:16:01.740Z"
      },
      {
        "duration": 9,
        "start_time": "2022-09-24T16:21:56.070Z"
      },
      {
        "duration": 5,
        "start_time": "2022-09-24T16:22:00.433Z"
      },
      {
        "duration": 3,
        "start_time": "2022-09-24T16:24:26.078Z"
      },
      {
        "duration": 3,
        "start_time": "2022-09-24T16:24:27.072Z"
      },
      {
        "duration": 21,
        "start_time": "2022-09-24T16:24:31.429Z"
      },
      {
        "duration": 12,
        "start_time": "2022-09-24T16:25:07.281Z"
      },
      {
        "duration": 16,
        "start_time": "2022-09-24T16:38:18.502Z"
      },
      {
        "duration": 11,
        "start_time": "2022-09-24T16:38:32.743Z"
      },
      {
        "duration": 9,
        "start_time": "2022-09-24T16:38:45.685Z"
      },
      {
        "duration": 6,
        "start_time": "2022-09-24T16:39:28.221Z"
      },
      {
        "duration": 464,
        "start_time": "2022-09-24T16:39:59.902Z"
      },
      {
        "duration": 480,
        "start_time": "2022-09-24T16:44:03.306Z"
      },
      {
        "duration": 467,
        "start_time": "2022-09-24T16:44:16.547Z"
      },
      {
        "duration": 13,
        "start_time": "2022-09-24T16:54:26.303Z"
      },
      {
        "duration": 8,
        "start_time": "2022-09-24T16:54:59.073Z"
      },
      {
        "duration": 3,
        "start_time": "2022-09-24T16:55:10.270Z"
      },
      {
        "duration": 6,
        "start_time": "2022-09-24T16:55:18.831Z"
      },
      {
        "duration": 6,
        "start_time": "2022-09-24T16:55:28.292Z"
      },
      {
        "duration": 7,
        "start_time": "2022-09-24T16:56:10.442Z"
      },
      {
        "duration": 8,
        "start_time": "2022-09-24T16:59:18.718Z"
      },
      {
        "duration": 12,
        "start_time": "2022-09-24T16:59:35.821Z"
      },
      {
        "duration": 8,
        "start_time": "2022-09-24T17:01:57.048Z"
      },
      {
        "duration": 3,
        "start_time": "2022-09-24T17:02:02.781Z"
      },
      {
        "duration": 6,
        "start_time": "2022-09-24T17:02:07.540Z"
      },
      {
        "duration": 6,
        "start_time": "2022-09-24T17:02:33.771Z"
      },
      {
        "duration": 5,
        "start_time": "2022-09-24T17:02:38.960Z"
      },
      {
        "duration": 5,
        "start_time": "2022-09-24T17:02:42.441Z"
      },
      {
        "duration": 4,
        "start_time": "2022-09-24T17:03:33.189Z"
      },
      {
        "duration": 369,
        "start_time": "2022-09-24T17:03:33.483Z"
      },
      {
        "duration": 19,
        "start_time": "2022-09-24T17:03:33.854Z"
      },
      {
        "duration": 3,
        "start_time": "2022-09-24T17:03:34.273Z"
      },
      {
        "duration": 78,
        "start_time": "2022-09-24T17:03:34.605Z"
      },
      {
        "duration": 8,
        "start_time": "2022-09-24T17:03:36.544Z"
      },
      {
        "duration": 23,
        "start_time": "2022-09-24T17:03:37.976Z"
      },
      {
        "duration": 15,
        "start_time": "2022-09-24T17:03:38.665Z"
      },
      {
        "duration": 18,
        "start_time": "2022-09-24T17:03:39.995Z"
      },
      {
        "duration": 14,
        "start_time": "2022-09-24T17:03:41.203Z"
      },
      {
        "duration": 14,
        "start_time": "2022-09-24T17:03:42.136Z"
      },
      {
        "duration": 3,
        "start_time": "2022-09-24T17:03:43.956Z"
      },
      {
        "duration": 3,
        "start_time": "2022-09-24T17:03:46.140Z"
      },
      {
        "duration": 7,
        "start_time": "2022-09-24T17:03:54.157Z"
      },
      {
        "duration": 3,
        "start_time": "2022-09-24T17:03:58.274Z"
      },
      {
        "duration": 22,
        "start_time": "2022-09-24T17:04:05.330Z"
      },
      {
        "duration": 32,
        "start_time": "2022-09-24T17:06:02.099Z"
      },
      {
        "duration": 23,
        "start_time": "2022-09-24T17:07:03.678Z"
      },
      {
        "duration": 22,
        "start_time": "2022-09-24T17:09:31.710Z"
      },
      {
        "duration": 2,
        "start_time": "2022-09-24T17:10:41.477Z"
      },
      {
        "duration": 22,
        "start_time": "2022-09-24T17:10:42.060Z"
      },
      {
        "duration": 3,
        "start_time": "2022-09-24T17:11:10.763Z"
      },
      {
        "duration": 22,
        "start_time": "2022-09-24T17:11:12.769Z"
      },
      {
        "duration": 4,
        "start_time": "2022-09-24T17:11:48.210Z"
      },
      {
        "duration": 4,
        "start_time": "2022-09-24T17:11:59.064Z"
      },
      {
        "duration": 14,
        "start_time": "2022-09-24T17:11:59.767Z"
      },
      {
        "duration": 10,
        "start_time": "2022-09-24T17:12:40.261Z"
      },
      {
        "duration": 12,
        "start_time": "2022-09-24T17:12:56.275Z"
      },
      {
        "duration": 3,
        "start_time": "2022-09-24T17:13:02.838Z"
      },
      {
        "duration": 13,
        "start_time": "2022-09-24T17:13:03.200Z"
      },
      {
        "duration": 3,
        "start_time": "2022-09-24T17:13:08.086Z"
      },
      {
        "duration": 361,
        "start_time": "2022-09-24T17:13:08.228Z"
      },
      {
        "duration": 20,
        "start_time": "2022-09-24T17:13:08.591Z"
      },
      {
        "duration": 4,
        "start_time": "2022-09-24T17:13:08.696Z"
      },
      {
        "duration": 81,
        "start_time": "2022-09-24T17:13:08.859Z"
      },
      {
        "duration": 9,
        "start_time": "2022-09-24T17:13:09.365Z"
      },
      {
        "duration": 26,
        "start_time": "2022-09-24T17:13:09.700Z"
      },
      {
        "duration": 8,
        "start_time": "2022-09-24T17:13:09.862Z"
      },
      {
        "duration": 20,
        "start_time": "2022-09-24T17:13:10.732Z"
      },
      {
        "duration": 14,
        "start_time": "2022-09-24T17:13:11.186Z"
      },
      {
        "duration": 14,
        "start_time": "2022-09-24T17:13:11.928Z"
      },
      {
        "duration": 3,
        "start_time": "2022-09-24T17:13:14.292Z"
      },
      {
        "duration": 3,
        "start_time": "2022-09-24T17:13:14.470Z"
      },
      {
        "duration": 3,
        "start_time": "2022-09-24T17:13:56.764Z"
      },
      {
        "duration": 5,
        "start_time": "2022-09-24T17:14:03.465Z"
      },
      {
        "duration": 3,
        "start_time": "2022-09-24T17:14:12.937Z"
      },
      {
        "duration": 343,
        "start_time": "2022-09-24T17:14:13.075Z"
      },
      {
        "duration": 22,
        "start_time": "2022-09-24T17:14:13.420Z"
      },
      {
        "duration": 2,
        "start_time": "2022-09-24T17:14:13.446Z"
      },
      {
        "duration": 78,
        "start_time": "2022-09-24T17:14:13.621Z"
      },
      {
        "duration": 8,
        "start_time": "2022-09-24T17:14:14.175Z"
      },
      {
        "duration": 22,
        "start_time": "2022-09-24T17:14:14.501Z"
      },
      {
        "duration": 10,
        "start_time": "2022-09-24T17:14:14.670Z"
      },
      {
        "duration": 14,
        "start_time": "2022-09-24T17:14:15.687Z"
      },
      {
        "duration": 14,
        "start_time": "2022-09-24T17:14:16.493Z"
      },
      {
        "duration": 17,
        "start_time": "2022-09-24T17:14:17.259Z"
      },
      {
        "duration": 2,
        "start_time": "2022-09-24T17:14:18.392Z"
      },
      {
        "duration": 4,
        "start_time": "2022-09-24T17:14:19.290Z"
      },
      {
        "duration": 3,
        "start_time": "2022-09-24T17:14:45.285Z"
      },
      {
        "duration": 23,
        "start_time": "2022-09-24T17:14:47.710Z"
      },
      {
        "duration": 4,
        "start_time": "2022-09-24T17:16:48.221Z"
      },
      {
        "duration": 4,
        "start_time": "2022-09-24T17:16:56.179Z"
      },
      {
        "duration": 13,
        "start_time": "2022-09-24T17:19:42.732Z"
      },
      {
        "duration": 22,
        "start_time": "2022-09-24T17:19:50.052Z"
      },
      {
        "duration": 3,
        "start_time": "2022-09-24T17:22:05.016Z"
      },
      {
        "duration": 31,
        "start_time": "2022-09-24T17:22:07.707Z"
      },
      {
        "duration": 20,
        "start_time": "2022-09-24T17:22:27.683Z"
      },
      {
        "duration": 22,
        "start_time": "2022-09-24T17:23:18.941Z"
      },
      {
        "duration": 21,
        "start_time": "2022-09-24T17:23:34.408Z"
      },
      {
        "duration": 23,
        "start_time": "2022-09-24T17:23:40.446Z"
      },
      {
        "duration": 15,
        "start_time": "2022-09-24T17:28:19.443Z"
      },
      {
        "duration": 21,
        "start_time": "2022-09-24T17:28:27.489Z"
      },
      {
        "duration": 7,
        "start_time": "2022-09-24T17:30:48.246Z"
      },
      {
        "duration": 8,
        "start_time": "2022-09-24T17:31:13.116Z"
      },
      {
        "duration": 5,
        "start_time": "2022-09-24T17:31:18.263Z"
      },
      {
        "duration": 6,
        "start_time": "2022-09-24T17:51:45.863Z"
      },
      {
        "duration": 11,
        "start_time": "2022-09-24T17:52:30.633Z"
      },
      {
        "duration": 22,
        "start_time": "2022-09-24T17:52:40.492Z"
      },
      {
        "duration": 6,
        "start_time": "2022-09-24T17:53:42.545Z"
      },
      {
        "duration": 21,
        "start_time": "2022-09-24T17:53:45.806Z"
      },
      {
        "duration": 3,
        "start_time": "2022-09-24T17:54:21.136Z"
      },
      {
        "duration": 356,
        "start_time": "2022-09-24T17:54:21.339Z"
      },
      {
        "duration": 20,
        "start_time": "2022-09-24T17:54:21.697Z"
      },
      {
        "duration": 4,
        "start_time": "2022-09-24T17:54:21.718Z"
      },
      {
        "duration": 81,
        "start_time": "2022-09-24T17:54:21.808Z"
      },
      {
        "duration": 8,
        "start_time": "2022-09-24T17:54:22.321Z"
      },
      {
        "duration": 22,
        "start_time": "2022-09-24T17:54:22.820Z"
      },
      {
        "duration": 9,
        "start_time": "2022-09-24T17:54:23.047Z"
      },
      {
        "duration": 65,
        "start_time": "2022-09-24T17:54:23.468Z"
      },
      {
        "duration": 14,
        "start_time": "2022-09-24T17:54:24.103Z"
      },
      {
        "duration": 15,
        "start_time": "2022-09-24T17:54:24.828Z"
      },
      {
        "duration": 3,
        "start_time": "2022-09-24T17:54:25.655Z"
      },
      {
        "duration": 4,
        "start_time": "2022-09-24T17:54:26.594Z"
      },
      {
        "duration": 7,
        "start_time": "2022-09-24T17:54:41.706Z"
      },
      {
        "duration": 22,
        "start_time": "2022-09-24T17:54:42.240Z"
      },
      {
        "duration": 5,
        "start_time": "2022-09-24T17:55:41.694Z"
      },
      {
        "duration": 7,
        "start_time": "2022-09-24T17:55:42.651Z"
      },
      {
        "duration": 3,
        "start_time": "2022-09-24T17:56:19.845Z"
      },
      {
        "duration": 3,
        "start_time": "2022-09-24T20:02:01.965Z"
      },
      {
        "duration": 370,
        "start_time": "2022-09-24T20:02:02.212Z"
      },
      {
        "duration": 21,
        "start_time": "2022-09-24T20:02:02.584Z"
      },
      {
        "duration": 4,
        "start_time": "2022-09-24T20:02:02.788Z"
      },
      {
        "duration": 79,
        "start_time": "2022-09-24T20:02:03.389Z"
      },
      {
        "duration": 8,
        "start_time": "2022-09-24T20:02:04.537Z"
      },
      {
        "duration": 23,
        "start_time": "2022-09-24T20:02:05.423Z"
      },
      {
        "duration": 9,
        "start_time": "2022-09-24T20:02:05.801Z"
      },
      {
        "duration": 17,
        "start_time": "2022-09-24T20:02:06.813Z"
      },
      {
        "duration": 14,
        "start_time": "2022-09-24T20:02:08.018Z"
      },
      {
        "duration": 16,
        "start_time": "2022-09-24T20:02:08.793Z"
      },
      {
        "duration": 3,
        "start_time": "2022-09-24T20:02:10.067Z"
      },
      {
        "duration": 3,
        "start_time": "2022-09-24T20:02:10.734Z"
      },
      {
        "duration": 3,
        "start_time": "2022-09-24T20:02:20.609Z"
      },
      {
        "duration": 4,
        "start_time": "2022-09-24T20:02:21.839Z"
      },
      {
        "duration": 5,
        "start_time": "2022-09-24T20:05:49.108Z"
      },
      {
        "duration": 3,
        "start_time": "2022-09-24T20:05:51.343Z"
      },
      {
        "duration": 2,
        "start_time": "2022-09-24T20:06:12.322Z"
      },
      {
        "duration": 11,
        "start_time": "2022-09-24T20:11:38.322Z"
      },
      {
        "duration": 11,
        "start_time": "2022-09-24T20:12:07.171Z"
      },
      {
        "duration": 3,
        "start_time": "2022-09-24T20:12:17.797Z"
      },
      {
        "duration": 2,
        "start_time": "2022-09-24T20:12:19.064Z"
      },
      {
        "duration": 826,
        "start_time": "2022-09-24T20:12:19.571Z"
      },
      {
        "duration": 814,
        "start_time": "2022-09-24T20:13:36.796Z"
      },
      {
        "duration": 806,
        "start_time": "2022-09-24T20:14:07.556Z"
      },
      {
        "duration": 4,
        "start_time": "2022-09-24T20:15:15.567Z"
      },
      {
        "duration": 201,
        "start_time": "2022-09-24T20:17:39.712Z"
      },
      {
        "duration": 296,
        "start_time": "2022-09-24T20:22:37.653Z"
      },
      {
        "duration": 2081,
        "start_time": "2022-09-24T20:23:50.396Z"
      },
      {
        "duration": 445,
        "start_time": "2022-09-24T20:30:19.664Z"
      },
      {
        "duration": 162,
        "start_time": "2022-09-24T20:30:31.545Z"
      },
      {
        "duration": 271,
        "start_time": "2022-09-24T20:31:08.687Z"
      },
      {
        "duration": 285,
        "start_time": "2022-09-24T20:33:39.645Z"
      },
      {
        "duration": 338,
        "start_time": "2022-09-24T20:33:49.299Z"
      },
      {
        "duration": 73,
        "start_time": "2022-09-24T20:44:55.892Z"
      },
      {
        "duration": 74,
        "start_time": "2022-09-24T20:45:04.746Z"
      },
      {
        "duration": 54,
        "start_time": "2022-09-24T20:45:11.923Z"
      },
      {
        "duration": 61,
        "start_time": "2022-09-24T20:45:18.540Z"
      },
      {
        "duration": 4,
        "start_time": "2022-09-24T20:46:09.264Z"
      },
      {
        "duration": 353,
        "start_time": "2022-09-24T20:46:10.743Z"
      },
      {
        "duration": 19,
        "start_time": "2022-09-24T20:46:11.159Z"
      },
      {
        "duration": 3,
        "start_time": "2022-09-24T20:46:15.221Z"
      },
      {
        "duration": 79,
        "start_time": "2022-09-24T20:46:15.850Z"
      },
      {
        "duration": 7,
        "start_time": "2022-09-24T20:46:35.996Z"
      },
      {
        "duration": 22,
        "start_time": "2022-09-24T20:46:36.906Z"
      },
      {
        "duration": 9,
        "start_time": "2022-09-24T20:46:37.293Z"
      },
      {
        "duration": 16,
        "start_time": "2022-09-24T20:46:38.220Z"
      },
      {
        "duration": 19,
        "start_time": "2022-09-24T20:46:39.673Z"
      },
      {
        "duration": 14,
        "start_time": "2022-09-24T20:46:40.919Z"
      },
      {
        "duration": 3,
        "start_time": "2022-09-24T20:46:42.672Z"
      },
      {
        "duration": 3,
        "start_time": "2022-09-24T20:46:47.632Z"
      },
      {
        "duration": 4,
        "start_time": "2022-09-24T20:47:10.357Z"
      },
      {
        "duration": 3,
        "start_time": "2022-09-24T20:47:11.310Z"
      },
      {
        "duration": 2,
        "start_time": "2022-09-24T20:47:19.867Z"
      },
      {
        "duration": 819,
        "start_time": "2022-09-24T20:47:24.949Z"
      },
      {
        "duration": 891,
        "start_time": "2022-09-24T20:48:16.062Z"
      },
      {
        "duration": 14,
        "start_time": "2022-09-24T20:48:51.289Z"
      },
      {
        "duration": 11,
        "start_time": "2022-09-24T20:48:51.579Z"
      },
      {
        "duration": 14,
        "start_time": "2022-09-24T20:49:05.258Z"
      },
      {
        "duration": 4,
        "start_time": "2022-09-24T20:49:21.151Z"
      },
      {
        "duration": 336,
        "start_time": "2022-09-24T20:49:21.280Z"
      },
      {
        "duration": 21,
        "start_time": "2022-09-24T20:49:21.618Z"
      },
      {
        "duration": 3,
        "start_time": "2022-09-24T20:49:21.729Z"
      },
      {
        "duration": 80,
        "start_time": "2022-09-24T20:49:21.919Z"
      },
      {
        "duration": 8,
        "start_time": "2022-09-24T20:49:22.476Z"
      },
      {
        "duration": 23,
        "start_time": "2022-09-24T20:49:22.969Z"
      },
      {
        "duration": 10,
        "start_time": "2022-09-24T20:49:23.305Z"
      },
      {
        "duration": 17,
        "start_time": "2022-09-24T20:49:23.949Z"
      },
      {
        "duration": 14,
        "start_time": "2022-09-24T20:49:24.641Z"
      },
      {
        "duration": 14,
        "start_time": "2022-09-24T20:49:25.290Z"
      },
      {
        "duration": 2,
        "start_time": "2022-09-24T20:49:25.648Z"
      },
      {
        "duration": 3,
        "start_time": "2022-09-24T20:49:25.876Z"
      },
      {
        "duration": 5,
        "start_time": "2022-09-24T20:49:26.367Z"
      },
      {
        "duration": 4,
        "start_time": "2022-09-24T20:49:26.773Z"
      },
      {
        "duration": 2,
        "start_time": "2022-09-24T20:49:27.645Z"
      },
      {
        "duration": 14,
        "start_time": "2022-09-24T20:49:28.069Z"
      },
      {
        "duration": 782,
        "start_time": "2022-09-24T20:49:50.628Z"
      },
      {
        "duration": 167,
        "start_time": "2022-09-24T20:49:53.200Z"
      },
      {
        "duration": 861,
        "start_time": "2022-09-24T20:50:23.745Z"
      },
      {
        "duration": 154,
        "start_time": "2022-09-24T20:50:34.301Z"
      },
      {
        "duration": 821,
        "start_time": "2022-09-24T20:51:18.553Z"
      },
      {
        "duration": 161,
        "start_time": "2022-09-24T20:51:32.789Z"
      },
      {
        "duration": 814,
        "start_time": "2022-09-24T20:57:54.988Z"
      },
      {
        "duration": 3,
        "start_time": "2022-09-24T20:58:55.653Z"
      },
      {
        "duration": 3,
        "start_time": "2022-09-24T20:59:47.061Z"
      },
      {
        "duration": 4,
        "start_time": "2022-09-24T20:59:47.318Z"
      },
      {
        "duration": 4,
        "start_time": "2022-09-24T21:00:13.051Z"
      },
      {
        "duration": 3,
        "start_time": "2022-09-24T21:01:28.883Z"
      },
      {
        "duration": 4,
        "start_time": "2022-09-24T21:01:29.224Z"
      },
      {
        "duration": 4,
        "start_time": "2022-09-24T21:01:47.575Z"
      },
      {
        "duration": 4,
        "start_time": "2022-09-24T21:01:56.956Z"
      },
      {
        "duration": 3,
        "start_time": "2022-09-24T21:01:57.357Z"
      },
      {
        "duration": 908,
        "start_time": "2022-09-24T21:02:00.331Z"
      },
      {
        "duration": 4,
        "start_time": "2022-09-24T21:02:54.312Z"
      },
      {
        "duration": 4,
        "start_time": "2022-09-24T21:03:19.200Z"
      },
      {
        "duration": 3,
        "start_time": "2022-09-24T21:03:19.502Z"
      },
      {
        "duration": 791,
        "start_time": "2022-09-24T21:03:20.963Z"
      },
      {
        "duration": 846,
        "start_time": "2022-09-24T21:03:38.422Z"
      },
      {
        "duration": 3,
        "start_time": "2022-09-24T21:04:15.877Z"
      },
      {
        "duration": 4,
        "start_time": "2022-09-24T21:04:16.378Z"
      },
      {
        "duration": 4,
        "start_time": "2022-09-24T21:04:25.190Z"
      },
      {
        "duration": 4,
        "start_time": "2022-09-24T21:04:26.907Z"
      },
      {
        "duration": 3,
        "start_time": "2022-09-24T21:04:30.109Z"
      },
      {
        "duration": 812,
        "start_time": "2022-09-24T21:04:32.198Z"
      },
      {
        "duration": 855,
        "start_time": "2022-09-24T21:04:57.800Z"
      },
      {
        "duration": 190,
        "start_time": "2022-09-24T21:04:58.657Z"
      },
      {
        "duration": 865,
        "start_time": "2022-09-24T21:05:00.451Z"
      },
      {
        "duration": 178,
        "start_time": "2022-09-24T21:05:02.088Z"
      },
      {
        "duration": 820,
        "start_time": "2022-09-24T21:06:07.293Z"
      },
      {
        "duration": 194,
        "start_time": "2022-09-24T21:06:08.115Z"
      },
      {
        "duration": 828,
        "start_time": "2022-09-24T21:06:14.775Z"
      },
      {
        "duration": 182,
        "start_time": "2022-09-24T21:06:15.605Z"
      },
      {
        "duration": 883,
        "start_time": "2022-09-24T21:06:17.304Z"
      },
      {
        "duration": 172,
        "start_time": "2022-09-24T21:06:19.437Z"
      },
      {
        "duration": 3,
        "start_time": "2022-09-24T21:07:02.561Z"
      },
      {
        "duration": 4,
        "start_time": "2022-09-24T21:07:02.938Z"
      },
      {
        "duration": 6,
        "start_time": "2022-09-24T21:07:05.615Z"
      },
      {
        "duration": 3,
        "start_time": "2022-09-24T21:07:05.949Z"
      },
      {
        "duration": 841,
        "start_time": "2022-09-24T21:07:07.950Z"
      },
      {
        "duration": 277,
        "start_time": "2022-09-24T21:07:08.793Z"
      },
      {
        "duration": 4,
        "start_time": "2022-09-24T21:07:25.153Z"
      },
      {
        "duration": 4,
        "start_time": "2022-09-24T21:07:25.757Z"
      },
      {
        "duration": 4,
        "start_time": "2022-09-24T21:07:26.165Z"
      },
      {
        "duration": 823,
        "start_time": "2022-09-24T21:07:27.098Z"
      },
      {
        "duration": 810,
        "start_time": "2022-09-24T21:07:47.006Z"
      },
      {
        "duration": 159,
        "start_time": "2022-09-24T21:07:50.771Z"
      },
      {
        "duration": 830,
        "start_time": "2022-09-24T21:07:52.468Z"
      },
      {
        "duration": 4,
        "start_time": "2022-09-24T21:08:33.371Z"
      },
      {
        "duration": 330,
        "start_time": "2022-09-24T21:08:33.556Z"
      },
      {
        "duration": 19,
        "start_time": "2022-09-24T21:08:33.888Z"
      },
      {
        "duration": 4,
        "start_time": "2022-09-24T21:08:33.971Z"
      },
      {
        "duration": 79,
        "start_time": "2022-09-24T21:08:34.160Z"
      },
      {
        "duration": 10,
        "start_time": "2022-09-24T21:08:35.098Z"
      },
      {
        "duration": 23,
        "start_time": "2022-09-24T21:08:35.687Z"
      },
      {
        "duration": 9,
        "start_time": "2022-09-24T21:08:35.882Z"
      },
      {
        "duration": 16,
        "start_time": "2022-09-24T21:08:36.423Z"
      },
      {
        "duration": 14,
        "start_time": "2022-09-24T21:08:38.802Z"
      },
      {
        "duration": 15,
        "start_time": "2022-09-24T21:08:40.772Z"
      },
      {
        "duration": 3,
        "start_time": "2022-09-24T21:08:56.444Z"
      },
      {
        "duration": 3,
        "start_time": "2022-09-24T21:08:57.078Z"
      },
      {
        "duration": 3,
        "start_time": "2022-09-24T21:09:44.085Z"
      },
      {
        "duration": 5,
        "start_time": "2022-09-24T21:09:47.016Z"
      },
      {
        "duration": 4,
        "start_time": "2022-09-24T21:09:54.877Z"
      },
      {
        "duration": 3,
        "start_time": "2022-09-24T21:09:55.574Z"
      },
      {
        "duration": 871,
        "start_time": "2022-09-24T21:10:00.542Z"
      },
      {
        "duration": 915,
        "start_time": "2022-09-24T21:10:05.982Z"
      },
      {
        "duration": 175,
        "start_time": "2022-09-24T21:10:06.898Z"
      },
      {
        "duration": 818,
        "start_time": "2022-09-24T21:10:08.882Z"
      },
      {
        "duration": 204,
        "start_time": "2022-09-24T21:10:09.702Z"
      },
      {
        "duration": 816,
        "start_time": "2022-09-24T21:10:11.775Z"
      },
      {
        "duration": 163,
        "start_time": "2022-09-24T21:10:12.593Z"
      },
      {
        "duration": 1289,
        "start_time": "2022-09-24T21:14:09.597Z"
      },
      {
        "duration": 76,
        "start_time": "2022-09-24T21:14:24.261Z"
      },
      {
        "duration": 816,
        "start_time": "2022-09-24T21:14:30.963Z"
      },
      {
        "duration": 809,
        "start_time": "2022-09-24T21:14:40.359Z"
      },
      {
        "duration": 828,
        "start_time": "2022-09-24T21:14:56.912Z"
      },
      {
        "duration": 827,
        "start_time": "2022-09-24T21:15:09.013Z"
      },
      {
        "duration": 3,
        "start_time": "2022-09-24T21:24:15.525Z"
      },
      {
        "duration": 4,
        "start_time": "2022-09-24T21:24:47.930Z"
      },
      {
        "duration": 3,
        "start_time": "2022-09-24T21:24:48.613Z"
      },
      {
        "duration": 817,
        "start_time": "2022-09-24T21:24:50.465Z"
      },
      {
        "duration": 162,
        "start_time": "2022-09-24T21:24:51.385Z"
      },
      {
        "duration": 773,
        "start_time": "2022-09-24T21:25:12.860Z"
      },
      {
        "duration": 849,
        "start_time": "2022-09-24T21:25:38.505Z"
      },
      {
        "duration": 155,
        "start_time": "2022-09-24T21:25:39.356Z"
      },
      {
        "duration": 884,
        "start_time": "2022-09-24T21:25:41.192Z"
      },
      {
        "duration": 182,
        "start_time": "2022-09-24T21:25:42.078Z"
      },
      {
        "duration": 810,
        "start_time": "2022-09-24T21:25:43.363Z"
      },
      {
        "duration": 168,
        "start_time": "2022-09-24T21:25:44.174Z"
      },
      {
        "duration": 3,
        "start_time": "2022-09-24T21:26:31.798Z"
      },
      {
        "duration": 4,
        "start_time": "2022-09-24T21:28:40.029Z"
      },
      {
        "duration": 4,
        "start_time": "2022-09-24T21:28:57.205Z"
      },
      {
        "duration": 4,
        "start_time": "2022-09-24T21:29:05.745Z"
      },
      {
        "duration": 4,
        "start_time": "2022-09-24T21:29:06.329Z"
      },
      {
        "duration": 770,
        "start_time": "2022-09-24T21:29:07.703Z"
      },
      {
        "duration": 143,
        "start_time": "2022-09-24T21:29:10.794Z"
      },
      {
        "duration": 806,
        "start_time": "2022-09-24T21:29:12.012Z"
      },
      {
        "duration": 275,
        "start_time": "2022-09-24T21:29:12.820Z"
      },
      {
        "duration": 801,
        "start_time": "2022-09-24T21:29:14.466Z"
      },
      {
        "duration": 180,
        "start_time": "2022-09-24T21:29:15.269Z"
      },
      {
        "duration": 812,
        "start_time": "2022-09-24T21:32:33.985Z"
      },
      {
        "duration": 172,
        "start_time": "2022-09-24T21:32:34.799Z"
      },
      {
        "duration": 913,
        "start_time": "2022-09-24T21:32:35.740Z"
      },
      {
        "duration": 163,
        "start_time": "2022-09-24T21:32:37.446Z"
      },
      {
        "duration": 864,
        "start_time": "2022-09-24T21:37:40.570Z"
      },
      {
        "duration": 181,
        "start_time": "2022-09-24T21:37:49.720Z"
      },
      {
        "duration": 836,
        "start_time": "2022-09-24T21:37:50.845Z"
      },
      {
        "duration": 853,
        "start_time": "2022-09-24T21:38:00.081Z"
      },
      {
        "duration": 805,
        "start_time": "2022-09-24T21:41:09.807Z"
      },
      {
        "duration": 820,
        "start_time": "2022-09-24T21:41:18.177Z"
      },
      {
        "duration": 826,
        "start_time": "2022-09-24T21:41:25.323Z"
      },
      {
        "duration": 4,
        "start_time": "2022-09-24T21:41:58.791Z"
      },
      {
        "duration": 358,
        "start_time": "2022-09-24T21:41:59.514Z"
      },
      {
        "duration": 20,
        "start_time": "2022-09-24T21:42:00.372Z"
      },
      {
        "duration": 3,
        "start_time": "2022-09-24T21:42:01.007Z"
      },
      {
        "duration": 82,
        "start_time": "2022-09-24T21:42:01.500Z"
      },
      {
        "duration": 7,
        "start_time": "2022-09-24T21:42:03.181Z"
      },
      {
        "duration": 23,
        "start_time": "2022-09-24T21:42:04.367Z"
      },
      {
        "duration": 13,
        "start_time": "2022-09-24T21:42:05.008Z"
      },
      {
        "duration": 59,
        "start_time": "2022-09-24T21:42:06.075Z"
      },
      {
        "duration": 16,
        "start_time": "2022-09-24T21:42:47.670Z"
      },
      {
        "duration": 14,
        "start_time": "2022-09-24T21:42:49.067Z"
      },
      {
        "duration": 3,
        "start_time": "2022-09-24T21:42:50.969Z"
      },
      {
        "duration": 4,
        "start_time": "2022-09-24T21:43:01.971Z"
      },
      {
        "duration": 4,
        "start_time": "2022-09-24T21:43:28.641Z"
      },
      {
        "duration": 3,
        "start_time": "2022-09-24T21:43:36.149Z"
      },
      {
        "duration": 779,
        "start_time": "2022-09-24T21:46:07.037Z"
      },
      {
        "duration": 901,
        "start_time": "2022-09-24T21:46:25.897Z"
      },
      {
        "duration": 1579,
        "start_time": "2022-09-25T11:29:39.441Z"
      },
      {
        "duration": 729,
        "start_time": "2022-09-25T11:29:41.022Z"
      },
      {
        "duration": 24,
        "start_time": "2022-09-25T11:29:41.752Z"
      },
      {
        "duration": 3,
        "start_time": "2022-09-25T11:29:41.778Z"
      },
      {
        "duration": 94,
        "start_time": "2022-09-25T11:29:41.782Z"
      },
      {
        "duration": 7,
        "start_time": "2022-09-25T11:29:41.878Z"
      },
      {
        "duration": 28,
        "start_time": "2022-09-25T11:29:42.434Z"
      },
      {
        "duration": 9,
        "start_time": "2022-09-25T11:29:43.173Z"
      },
      {
        "duration": 339,
        "start_time": "2022-09-25T11:29:44.414Z"
      },
      {
        "duration": 3,
        "start_time": "2022-09-25T11:29:57.672Z"
      },
      {
        "duration": 333,
        "start_time": "2022-09-25T11:29:58.107Z"
      },
      {
        "duration": 19,
        "start_time": "2022-09-25T11:29:58.929Z"
      },
      {
        "duration": 3,
        "start_time": "2022-09-25T11:29:59.362Z"
      },
      {
        "duration": 83,
        "start_time": "2022-09-25T11:29:59.740Z"
      },
      {
        "duration": 8,
        "start_time": "2022-09-25T11:30:00.727Z"
      },
      {
        "duration": 21,
        "start_time": "2022-09-25T11:30:01.538Z"
      },
      {
        "duration": 10,
        "start_time": "2022-09-25T11:30:01.892Z"
      },
      {
        "duration": 23,
        "start_time": "2022-09-25T11:30:02.634Z"
      },
      {
        "duration": 12,
        "start_time": "2022-09-25T11:30:23.254Z"
      },
      {
        "duration": 12,
        "start_time": "2022-09-25T11:30:25.725Z"
      },
      {
        "duration": 17,
        "start_time": "2022-09-25T11:30:27.900Z"
      },
      {
        "duration": 2,
        "start_time": "2022-09-25T11:30:28.986Z"
      },
      {
        "duration": 4,
        "start_time": "2022-09-25T11:30:41.083Z"
      },
      {
        "duration": 4,
        "start_time": "2022-09-25T11:30:42.895Z"
      },
      {
        "duration": 3,
        "start_time": "2022-09-25T11:30:44.215Z"
      },
      {
        "duration": 654,
        "start_time": "2022-09-25T11:30:46.324Z"
      },
      {
        "duration": 624,
        "start_time": "2022-09-25T11:31:04.905Z"
      },
      {
        "duration": 659,
        "start_time": "2022-09-25T11:31:15.655Z"
      },
      {
        "duration": 4,
        "start_time": "2022-09-25T11:36:31.473Z"
      },
      {
        "duration": 684,
        "start_time": "2022-09-25T11:36:46.409Z"
      },
      {
        "duration": 26541,
        "start_time": "2022-09-25T11:37:57.687Z"
      },
      {
        "duration": 641,
        "start_time": "2022-09-25T11:38:30.454Z"
      },
      {
        "duration": 649,
        "start_time": "2022-09-25T11:38:55.481Z"
      },
      {
        "duration": 637,
        "start_time": "2022-09-25T11:44:24.762Z"
      },
      {
        "duration": 167,
        "start_time": "2022-09-25T11:44:25.402Z"
      },
      {
        "duration": 640,
        "start_time": "2022-09-25T11:44:26.098Z"
      },
      {
        "duration": 162,
        "start_time": "2022-09-25T11:44:26.749Z"
      },
      {
        "duration": 674,
        "start_time": "2022-09-25T11:44:28.430Z"
      },
      {
        "duration": 154,
        "start_time": "2022-09-25T11:44:29.108Z"
      },
      {
        "duration": 3,
        "start_time": "2022-09-25T11:45:44.831Z"
      },
      {
        "duration": 1568,
        "start_time": "2022-09-25T11:45:48.091Z"
      },
      {
        "duration": 3,
        "start_time": "2022-09-25T11:46:48.120Z"
      },
      {
        "duration": 1448,
        "start_time": "2022-09-25T11:46:51.810Z"
      },
      {
        "duration": 2,
        "start_time": "2022-09-25T11:47:56.570Z"
      },
      {
        "duration": 4,
        "start_time": "2022-09-25T11:47:56.973Z"
      },
      {
        "duration": 4,
        "start_time": "2022-09-25T11:48:25.400Z"
      },
      {
        "duration": 3,
        "start_time": "2022-09-25T11:48:25.786Z"
      },
      {
        "duration": 3,
        "start_time": "2022-09-25T11:48:44.813Z"
      },
      {
        "duration": 950,
        "start_time": "2022-09-25T11:48:46.377Z"
      },
      {
        "duration": 3,
        "start_time": "2022-09-25T11:49:31.776Z"
      },
      {
        "duration": 17,
        "start_time": "2022-09-25T11:49:33.194Z"
      },
      {
        "duration": 3,
        "start_time": "2022-09-25T11:49:50.864Z"
      },
      {
        "duration": 1126,
        "start_time": "2022-09-25T11:49:51.894Z"
      },
      {
        "duration": 135,
        "start_time": "2022-09-25T11:50:48.992Z"
      },
      {
        "duration": 3,
        "start_time": "2022-09-25T11:51:02.337Z"
      },
      {
        "duration": 1087,
        "start_time": "2022-09-25T11:51:03.589Z"
      },
      {
        "duration": 6,
        "start_time": "2022-09-25T11:52:45.679Z"
      },
      {
        "duration": 4,
        "start_time": "2022-09-25T11:53:30.042Z"
      },
      {
        "duration": 4,
        "start_time": "2022-09-25T11:53:42.101Z"
      },
      {
        "duration": 4,
        "start_time": "2022-09-25T11:53:50.387Z"
      },
      {
        "duration": 4,
        "start_time": "2022-09-25T11:53:53.197Z"
      },
      {
        "duration": 3,
        "start_time": "2022-09-25T11:53:59.565Z"
      },
      {
        "duration": 614,
        "start_time": "2022-09-25T11:54:02.140Z"
      },
      {
        "duration": 136,
        "start_time": "2022-09-25T11:54:08.691Z"
      },
      {
        "duration": 581,
        "start_time": "2022-09-25T11:54:12.002Z"
      },
      {
        "duration": 158,
        "start_time": "2022-09-25T11:54:17.763Z"
      },
      {
        "duration": 578,
        "start_time": "2022-09-25T11:54:19.736Z"
      },
      {
        "duration": 4,
        "start_time": "2022-09-25T12:16:31.988Z"
      },
      {
        "duration": 345,
        "start_time": "2022-09-25T12:16:53.611Z"
      },
      {
        "duration": 19,
        "start_time": "2022-09-25T12:16:53.958Z"
      },
      {
        "duration": 3,
        "start_time": "2022-09-25T12:16:53.979Z"
      },
      {
        "duration": 88,
        "start_time": "2022-09-25T12:16:54.139Z"
      },
      {
        "duration": 7,
        "start_time": "2022-09-25T12:16:54.637Z"
      },
      {
        "duration": 20,
        "start_time": "2022-09-25T12:16:54.966Z"
      },
      {
        "duration": 9,
        "start_time": "2022-09-25T12:16:55.108Z"
      },
      {
        "duration": 16,
        "start_time": "2022-09-25T12:16:55.490Z"
      },
      {
        "duration": 17,
        "start_time": "2022-09-25T12:16:56.069Z"
      },
      {
        "duration": 13,
        "start_time": "2022-09-25T12:16:56.534Z"
      },
      {
        "duration": 2,
        "start_time": "2022-09-25T12:16:57.351Z"
      },
      {
        "duration": 4,
        "start_time": "2022-09-25T12:16:58.465Z"
      },
      {
        "duration": 2,
        "start_time": "2022-09-25T12:16:59.410Z"
      },
      {
        "duration": 4,
        "start_time": "2022-09-25T12:16:59.752Z"
      },
      {
        "duration": 11,
        "start_time": "2022-09-25T12:17:04.644Z"
      },
      {
        "duration": 4,
        "start_time": "2022-09-25T12:17:34.449Z"
      },
      {
        "duration": 12,
        "start_time": "2022-09-25T12:17:36.005Z"
      },
      {
        "duration": 4,
        "start_time": "2022-09-25T12:18:09.837Z"
      },
      {
        "duration": 5,
        "start_time": "2022-09-25T12:18:48.822Z"
      },
      {
        "duration": 3,
        "start_time": "2022-09-25T12:18:49.147Z"
      },
      {
        "duration": 681,
        "start_time": "2022-09-25T12:18:50.717Z"
      },
      {
        "duration": 3,
        "start_time": "2022-09-25T12:19:53.659Z"
      },
      {
        "duration": 649,
        "start_time": "2022-09-25T12:19:54.745Z"
      },
      {
        "duration": 136,
        "start_time": "2022-09-25T12:19:56.137Z"
      },
      {
        "duration": 640,
        "start_time": "2022-09-25T12:19:57.764Z"
      },
      {
        "duration": 159,
        "start_time": "2022-09-25T12:19:59.396Z"
      },
      {
        "duration": 673,
        "start_time": "2022-09-25T12:20:00.816Z"
      },
      {
        "duration": 959,
        "start_time": "2022-09-25T12:22:27.848Z"
      },
      {
        "duration": 1047,
        "start_time": "2022-09-25T12:23:51.912Z"
      },
      {
        "duration": 241,
        "start_time": "2022-09-25T12:23:52.960Z"
      },
      {
        "duration": 999,
        "start_time": "2022-09-25T12:23:53.203Z"
      },
      {
        "duration": 170,
        "start_time": "2022-09-25T12:23:54.203Z"
      },
      {
        "duration": 955,
        "start_time": "2022-09-25T12:23:54.374Z"
      },
      {
        "duration": 154,
        "start_time": "2022-09-25T12:23:55.331Z"
      },
      {
        "duration": 3,
        "start_time": "2022-09-25T12:29:04.386Z"
      },
      {
        "duration": 346,
        "start_time": "2022-09-25T12:29:04.554Z"
      },
      {
        "duration": 21,
        "start_time": "2022-09-25T12:29:04.902Z"
      },
      {
        "duration": 3,
        "start_time": "2022-09-25T12:29:04.924Z"
      },
      {
        "duration": 88,
        "start_time": "2022-09-25T12:29:05.189Z"
      },
      {
        "duration": 9,
        "start_time": "2022-09-25T12:29:07.970Z"
      },
      {
        "duration": 22,
        "start_time": "2022-09-25T12:29:11.581Z"
      },
      {
        "duration": 8,
        "start_time": "2022-09-25T12:29:12.083Z"
      },
      {
        "duration": 11,
        "start_time": "2022-09-25T12:32:40.790Z"
      },
      {
        "duration": 19,
        "start_time": "2022-09-25T12:32:58.648Z"
      },
      {
        "duration": 10,
        "start_time": "2022-09-25T12:33:28.378Z"
      },
      {
        "duration": 20,
        "start_time": "2022-09-25T12:33:53.404Z"
      },
      {
        "duration": 21,
        "start_time": "2022-09-25T12:34:18.878Z"
      },
      {
        "duration": 21,
        "start_time": "2022-09-25T12:34:29.453Z"
      },
      {
        "duration": 24,
        "start_time": "2022-09-25T12:34:40.908Z"
      },
      {
        "duration": 4,
        "start_time": "2022-09-25T12:34:45.499Z"
      },
      {
        "duration": 82,
        "start_time": "2022-09-25T12:34:47.900Z"
      },
      {
        "duration": 83,
        "start_time": "2022-09-25T12:35:11.757Z"
      },
      {
        "duration": 82,
        "start_time": "2022-09-25T12:35:21.414Z"
      },
      {
        "duration": 40,
        "start_time": "2022-09-25T12:35:36.675Z"
      },
      {
        "duration": 58,
        "start_time": "2022-09-25T12:35:47.912Z"
      },
      {
        "duration": 96,
        "start_time": "2022-09-25T12:36:02.713Z"
      },
      {
        "duration": 7,
        "start_time": "2022-09-25T12:37:41.887Z"
      },
      {
        "duration": 25,
        "start_time": "2022-09-25T12:37:46.758Z"
      },
      {
        "duration": 11,
        "start_time": "2022-09-25T12:37:48.723Z"
      },
      {
        "duration": 14,
        "start_time": "2022-09-25T12:37:51.780Z"
      },
      {
        "duration": 13,
        "start_time": "2022-09-25T12:38:25.607Z"
      },
      {
        "duration": 13,
        "start_time": "2022-09-25T12:38:26.137Z"
      },
      {
        "duration": 14,
        "start_time": "2022-09-25T12:38:26.716Z"
      },
      {
        "duration": 2,
        "start_time": "2022-09-25T12:42:31.306Z"
      },
      {
        "duration": 4,
        "start_time": "2022-09-25T12:42:33.333Z"
      },
      {
        "duration": 4,
        "start_time": "2022-09-25T12:43:21.581Z"
      },
      {
        "duration": 5,
        "start_time": "2022-09-25T12:43:46.536Z"
      },
      {
        "duration": 4,
        "start_time": "2022-09-25T12:44:00.322Z"
      },
      {
        "duration": 5,
        "start_time": "2022-09-25T12:44:05.844Z"
      },
      {
        "duration": 4,
        "start_time": "2022-09-25T12:44:50.549Z"
      },
      {
        "duration": 3,
        "start_time": "2022-09-25T12:44:51.911Z"
      },
      {
        "duration": 1010,
        "start_time": "2022-09-25T12:44:53.648Z"
      },
      {
        "duration": 162,
        "start_time": "2022-09-25T12:45:01.327Z"
      },
      {
        "duration": 3,
        "start_time": "2022-09-25T12:47:03.900Z"
      },
      {
        "duration": 4,
        "start_time": "2022-09-25T12:48:30.051Z"
      },
      {
        "duration": 3,
        "start_time": "2022-09-25T12:48:34.938Z"
      },
      {
        "duration": 975,
        "start_time": "2022-09-25T12:48:36.800Z"
      },
      {
        "duration": 3,
        "start_time": "2022-09-25T12:48:43.495Z"
      },
      {
        "duration": 989,
        "start_time": "2022-09-25T12:56:13.053Z"
      },
      {
        "duration": 955,
        "start_time": "2022-09-25T12:56:26.343Z"
      },
      {
        "duration": 947,
        "start_time": "2022-09-25T12:56:55.649Z"
      },
      {
        "duration": 945,
        "start_time": "2022-09-25T12:57:00.861Z"
      },
      {
        "duration": 1002,
        "start_time": "2022-09-25T12:57:10.755Z"
      },
      {
        "duration": 157,
        "start_time": "2022-09-25T12:59:43.375Z"
      },
      {
        "duration": 973,
        "start_time": "2022-09-25T12:59:53.007Z"
      },
      {
        "duration": 956,
        "start_time": "2022-09-25T13:00:04.277Z"
      },
      {
        "duration": 169,
        "start_time": "2022-09-25T13:02:36.610Z"
      },
      {
        "duration": 1016,
        "start_time": "2022-09-25T13:02:42.458Z"
      },
      {
        "duration": 971,
        "start_time": "2022-09-25T13:02:47.392Z"
      },
      {
        "duration": 147,
        "start_time": "2022-09-25T13:03:15.517Z"
      },
      {
        "duration": 4,
        "start_time": "2022-09-25T13:14:37.775Z"
      },
      {
        "duration": 342,
        "start_time": "2022-09-25T13:14:38.229Z"
      },
      {
        "duration": 24,
        "start_time": "2022-09-25T13:14:38.677Z"
      },
      {
        "duration": 4,
        "start_time": "2022-09-25T13:14:39.501Z"
      },
      {
        "duration": 85,
        "start_time": "2022-09-25T13:14:39.991Z"
      },
      {
        "duration": 7,
        "start_time": "2022-09-25T13:14:43.002Z"
      },
      {
        "duration": 23,
        "start_time": "2022-09-25T13:14:44.036Z"
      },
      {
        "duration": 11,
        "start_time": "2022-09-25T13:14:44.577Z"
      },
      {
        "duration": 19,
        "start_time": "2022-09-25T13:14:45.495Z"
      },
      {
        "duration": 12,
        "start_time": "2022-09-25T13:14:46.488Z"
      },
      {
        "duration": 13,
        "start_time": "2022-09-25T13:14:47.273Z"
      },
      {
        "duration": 3,
        "start_time": "2022-09-25T13:14:49.981Z"
      },
      {
        "duration": 4,
        "start_time": "2022-09-25T13:14:51.669Z"
      },
      {
        "duration": 4,
        "start_time": "2022-09-25T13:14:53.012Z"
      },
      {
        "duration": 3,
        "start_time": "2022-09-25T13:14:53.892Z"
      },
      {
        "duration": 968,
        "start_time": "2022-09-25T13:14:58.634Z"
      },
      {
        "duration": 155,
        "start_time": "2022-09-25T13:14:59.782Z"
      },
      {
        "duration": 965,
        "start_time": "2022-09-25T13:15:01.511Z"
      },
      {
        "duration": 216,
        "start_time": "2022-09-25T13:15:02.478Z"
      },
      {
        "duration": 991,
        "start_time": "2022-09-25T13:15:04.078Z"
      },
      {
        "duration": 148,
        "start_time": "2022-09-25T13:15:06.992Z"
      },
      {
        "duration": 1508,
        "start_time": "2022-09-25T20:03:36.748Z"
      },
      {
        "duration": 1739,
        "start_time": "2022-09-25T20:03:38.258Z"
      },
      {
        "duration": 3,
        "start_time": "2022-09-25T20:08:18.247Z"
      },
      {
        "duration": 4,
        "start_time": "2022-09-25T20:10:22.656Z"
      },
      {
        "duration": 117,
        "start_time": "2022-09-25T20:10:35.053Z"
      },
      {
        "duration": 15,
        "start_time": "2022-09-25T20:12:03.277Z"
      },
      {
        "duration": 3,
        "start_time": "2022-09-25T20:12:10.279Z"
      },
      {
        "duration": 12,
        "start_time": "2022-09-25T20:12:10.580Z"
      },
      {
        "duration": 5,
        "start_time": "2022-09-25T20:12:24.869Z"
      },
      {
        "duration": 5,
        "start_time": "2022-09-25T20:12:46.615Z"
      },
      {
        "duration": 3,
        "start_time": "2022-09-25T20:17:02.228Z"
      },
      {
        "duration": 12,
        "start_time": "2022-09-25T20:17:21.471Z"
      },
      {
        "duration": 18,
        "start_time": "2022-09-25T20:17:33.335Z"
      },
      {
        "duration": 21,
        "start_time": "2022-09-25T20:17:45.497Z"
      },
      {
        "duration": 25,
        "start_time": "2022-09-25T20:19:11.740Z"
      },
      {
        "duration": 23,
        "start_time": "2022-09-25T20:19:58.683Z"
      },
      {
        "duration": 2,
        "start_time": "2022-09-25T20:20:23.239Z"
      },
      {
        "duration": 20,
        "start_time": "2022-09-25T20:20:23.612Z"
      },
      {
        "duration": 23,
        "start_time": "2022-09-25T20:20:35.566Z"
      },
      {
        "duration": 2,
        "start_time": "2022-09-25T20:21:23.727Z"
      },
      {
        "duration": 46,
        "start_time": "2022-09-25T20:21:25.559Z"
      },
      {
        "duration": 2,
        "start_time": "2022-09-25T20:21:37.730Z"
      },
      {
        "duration": 46,
        "start_time": "2022-09-25T20:21:38.526Z"
      },
      {
        "duration": 2,
        "start_time": "2022-09-25T20:22:03.603Z"
      },
      {
        "duration": 112,
        "start_time": "2022-09-25T20:22:05.113Z"
      },
      {
        "duration": 4,
        "start_time": "2022-09-25T20:22:30.798Z"
      },
      {
        "duration": 104,
        "start_time": "2022-09-25T20:22:31.125Z"
      },
      {
        "duration": 3,
        "start_time": "2022-09-25T20:23:47.891Z"
      },
      {
        "duration": 90,
        "start_time": "2022-09-25T20:23:48.646Z"
      },
      {
        "duration": 3,
        "start_time": "2022-09-25T20:25:37.595Z"
      },
      {
        "duration": 12,
        "start_time": "2022-09-25T20:29:53.153Z"
      },
      {
        "duration": 11,
        "start_time": "2022-09-25T20:30:11.489Z"
      },
      {
        "duration": 4,
        "start_time": "2022-09-25T20:30:41.469Z"
      },
      {
        "duration": 30,
        "start_time": "2022-09-25T20:30:42.498Z"
      },
      {
        "duration": 4,
        "start_time": "2022-09-25T20:30:53.070Z"
      },
      {
        "duration": 23,
        "start_time": "2022-09-25T20:30:54.481Z"
      },
      {
        "duration": 3,
        "start_time": "2022-09-25T20:31:26.670Z"
      },
      {
        "duration": 23,
        "start_time": "2022-09-25T20:31:27.158Z"
      },
      {
        "duration": 4,
        "start_time": "2022-09-25T20:31:51.599Z"
      },
      {
        "duration": 24,
        "start_time": "2022-09-25T20:31:51.935Z"
      },
      {
        "duration": 5,
        "start_time": "2022-09-25T20:32:23.172Z"
      },
      {
        "duration": 23,
        "start_time": "2022-09-25T20:32:23.813Z"
      },
      {
        "duration": 4,
        "start_time": "2022-09-25T20:32:34.199Z"
      },
      {
        "duration": 73,
        "start_time": "2022-09-25T20:32:34.749Z"
      },
      {
        "duration": 4,
        "start_time": "2022-09-25T20:33:04.920Z"
      },
      {
        "duration": 23,
        "start_time": "2022-09-25T20:33:05.254Z"
      },
      {
        "duration": 4,
        "start_time": "2022-09-25T20:33:10.431Z"
      },
      {
        "duration": 24,
        "start_time": "2022-09-25T20:33:11.306Z"
      },
      {
        "duration": 25,
        "start_time": "2022-09-25T20:33:39.560Z"
      },
      {
        "duration": 4,
        "start_time": "2022-09-25T20:33:49.223Z"
      },
      {
        "duration": 24,
        "start_time": "2022-09-25T20:33:49.710Z"
      },
      {
        "duration": 32,
        "start_time": "2022-09-25T20:34:26.131Z"
      },
      {
        "duration": 383,
        "start_time": "2022-09-25T20:34:51.056Z"
      },
      {
        "duration": 331,
        "start_time": "2022-09-25T20:35:08.099Z"
      },
      {
        "duration": 301,
        "start_time": "2022-09-25T20:35:17.831Z"
      },
      {
        "duration": 4,
        "start_time": "2022-09-25T20:35:47.070Z"
      },
      {
        "duration": 4,
        "start_time": "2022-09-25T20:36:14.757Z"
      },
      {
        "duration": 383,
        "start_time": "2022-09-25T20:36:15.142Z"
      },
      {
        "duration": 306,
        "start_time": "2022-09-25T20:36:28.319Z"
      },
      {
        "duration": 2,
        "start_time": "2022-09-25T20:38:33.893Z"
      },
      {
        "duration": 4,
        "start_time": "2022-09-25T20:43:10.642Z"
      },
      {
        "duration": 22,
        "start_time": "2022-09-25T20:43:59.673Z"
      },
      {
        "duration": 3,
        "start_time": "2022-09-25T20:44:09.175Z"
      },
      {
        "duration": 9,
        "start_time": "2022-09-25T20:44:17.786Z"
      },
      {
        "duration": 20,
        "start_time": "2022-09-25T20:44:22.835Z"
      },
      {
        "duration": 265,
        "start_time": "2022-09-25T20:44:24.769Z"
      },
      {
        "duration": 3,
        "start_time": "2022-09-25T20:44:53.730Z"
      },
      {
        "duration": 320,
        "start_time": "2022-09-25T20:44:54.288Z"
      },
      {
        "duration": 3,
        "start_time": "2022-09-25T20:44:54.658Z"
      },
      {
        "duration": 97,
        "start_time": "2022-09-25T20:44:55.232Z"
      },
      {
        "duration": 4,
        "start_time": "2022-09-25T20:44:59.468Z"
      },
      {
        "duration": 24,
        "start_time": "2022-09-25T20:44:59.957Z"
      },
      {
        "duration": 359,
        "start_time": "2022-09-25T20:45:01.464Z"
      },
      {
        "duration": 4,
        "start_time": "2022-09-25T20:45:59.785Z"
      },
      {
        "duration": 22,
        "start_time": "2022-09-25T20:46:00.159Z"
      },
      {
        "duration": 318,
        "start_time": "2022-09-25T20:46:00.512Z"
      },
      {
        "duration": 306,
        "start_time": "2022-09-25T20:46:48.319Z"
      },
      {
        "duration": 285,
        "start_time": "2022-09-25T20:47:05.345Z"
      },
      {
        "duration": 391,
        "start_time": "2022-09-25T20:47:35.036Z"
      },
      {
        "duration": 246,
        "start_time": "2022-09-25T20:48:35.184Z"
      },
      {
        "duration": 4,
        "start_time": "2022-09-25T20:51:36.687Z"
      },
      {
        "duration": 12,
        "start_time": "2022-09-25T20:52:21.668Z"
      },
      {
        "duration": 6,
        "start_time": "2022-09-25T20:52:46.946Z"
      },
      {
        "duration": 3,
        "start_time": "2022-09-25T20:53:19.124Z"
      },
      {
        "duration": 13,
        "start_time": "2022-09-25T20:53:21.934Z"
      },
      {
        "duration": 1021,
        "start_time": "2022-09-25T20:53:51.013Z"
      },
      {
        "duration": 973,
        "start_time": "2022-09-25T20:54:04.135Z"
      },
      {
        "duration": 4,
        "start_time": "2022-09-25T20:54:27.343Z"
      },
      {
        "duration": 328,
        "start_time": "2022-09-25T20:54:27.852Z"
      },
      {
        "duration": 3,
        "start_time": "2022-09-25T20:54:28.190Z"
      },
      {
        "duration": 95,
        "start_time": "2022-09-25T20:54:31.582Z"
      },
      {
        "duration": 4,
        "start_time": "2022-09-25T20:54:40.248Z"
      },
      {
        "duration": 251,
        "start_time": "2022-09-25T20:54:44.574Z"
      },
      {
        "duration": 2,
        "start_time": "2022-09-25T20:55:38.287Z"
      },
      {
        "duration": 4,
        "start_time": "2022-09-25T20:55:39.798Z"
      },
      {
        "duration": 13,
        "start_time": "2022-09-25T20:57:42.504Z"
      },
      {
        "duration": 3,
        "start_time": "2022-09-25T20:58:15.961Z"
      },
      {
        "duration": 5,
        "start_time": "2022-09-25T20:58:40.489Z"
      },
      {
        "duration": 5,
        "start_time": "2022-09-25T20:58:56.000Z"
      },
      {
        "duration": 330,
        "start_time": "2022-09-25T20:58:56.580Z"
      },
      {
        "duration": 3,
        "start_time": "2022-09-25T20:58:56.912Z"
      },
      {
        "duration": 93,
        "start_time": "2022-09-25T20:58:57.091Z"
      },
      {
        "duration": 4,
        "start_time": "2022-09-25T20:58:58.474Z"
      },
      {
        "duration": 204,
        "start_time": "2022-09-25T20:58:59.126Z"
      },
      {
        "duration": 3,
        "start_time": "2022-09-25T20:59:02.005Z"
      },
      {
        "duration": 4,
        "start_time": "2022-09-25T20:59:02.604Z"
      },
      {
        "duration": 5,
        "start_time": "2022-09-25T20:59:05.533Z"
      },
      {
        "duration": 4,
        "start_time": "2022-09-25T20:59:07.709Z"
      },
      {
        "duration": 992,
        "start_time": "2022-09-25T20:59:16.703Z"
      },
      {
        "duration": 5,
        "start_time": "2022-09-25T21:00:19.228Z"
      },
      {
        "duration": 3,
        "start_time": "2022-09-25T21:00:28.200Z"
      },
      {
        "duration": 5,
        "start_time": "2022-09-25T21:04:42.929Z"
      },
      {
        "duration": 1063,
        "start_time": "2022-09-25T21:05:07.083Z"
      },
      {
        "duration": 1000,
        "start_time": "2022-09-25T21:21:16.703Z"
      },
      {
        "duration": 3042,
        "start_time": "2022-09-25T21:23:02.365Z"
      },
      {
        "duration": 4,
        "start_time": "2022-09-25T21:23:51.204Z"
      },
      {
        "duration": 3,
        "start_time": "2022-09-25T21:23:52.940Z"
      },
      {
        "duration": 5,
        "start_time": "2022-09-25T21:23:55.268Z"
      },
      {
        "duration": 3062,
        "start_time": "2022-09-25T21:23:55.932Z"
      },
      {
        "duration": 4,
        "start_time": "2022-09-25T21:24:18.875Z"
      },
      {
        "duration": 331,
        "start_time": "2022-09-25T21:24:19.206Z"
      },
      {
        "duration": 3,
        "start_time": "2022-09-25T21:24:19.539Z"
      },
      {
        "duration": 108,
        "start_time": "2022-09-25T21:24:19.543Z"
      },
      {
        "duration": 5,
        "start_time": "2022-09-25T21:24:20.157Z"
      },
      {
        "duration": 304,
        "start_time": "2022-09-25T21:24:20.321Z"
      },
      {
        "duration": 2,
        "start_time": "2022-09-25T21:24:23.279Z"
      },
      {
        "duration": 4,
        "start_time": "2022-09-25T21:24:23.913Z"
      },
      {
        "duration": 5,
        "start_time": "2022-09-25T21:24:25.974Z"
      },
      {
        "duration": 4,
        "start_time": "2022-09-25T21:24:43.119Z"
      },
      {
        "duration": 4,
        "start_time": "2022-09-25T21:24:58.312Z"
      },
      {
        "duration": 3017,
        "start_time": "2022-09-25T21:24:58.695Z"
      },
      {
        "duration": 2999,
        "start_time": "2022-09-25T21:25:37.144Z"
      },
      {
        "duration": 2975,
        "start_time": "2022-09-25T21:26:12.782Z"
      },
      {
        "duration": 95,
        "start_time": "2022-09-25T21:29:04.346Z"
      },
      {
        "duration": 3,
        "start_time": "2022-09-25T21:29:29.558Z"
      },
      {
        "duration": 98,
        "start_time": "2022-09-25T21:29:30.055Z"
      },
      {
        "duration": 3,
        "start_time": "2022-09-25T21:29:43.802Z"
      },
      {
        "duration": 105,
        "start_time": "2022-09-25T21:29:44.147Z"
      },
      {
        "duration": 3,
        "start_time": "2022-09-25T21:30:08.043Z"
      },
      {
        "duration": 324,
        "start_time": "2022-09-25T21:30:08.535Z"
      },
      {
        "duration": 2,
        "start_time": "2022-09-25T21:30:09.050Z"
      },
      {
        "duration": 93,
        "start_time": "2022-09-25T21:30:09.334Z"
      },
      {
        "duration": 5,
        "start_time": "2022-09-25T21:30:10.444Z"
      },
      {
        "duration": 274,
        "start_time": "2022-09-25T21:30:10.752Z"
      },
      {
        "duration": 2,
        "start_time": "2022-09-25T21:30:22.925Z"
      },
      {
        "duration": 3,
        "start_time": "2022-09-25T21:30:26.613Z"
      },
      {
        "duration": 4,
        "start_time": "2022-09-25T21:30:27.010Z"
      },
      {
        "duration": 4,
        "start_time": "2022-09-25T21:30:29.985Z"
      },
      {
        "duration": 158,
        "start_time": "2022-09-25T21:31:00.474Z"
      },
      {
        "duration": 3,
        "start_time": "2022-09-25T21:31:10.245Z"
      },
      {
        "duration": 4,
        "start_time": "2022-09-25T21:31:11.191Z"
      },
      {
        "duration": 5,
        "start_time": "2022-09-25T21:31:15.308Z"
      },
      {
        "duration": 3,
        "start_time": "2022-09-25T21:31:34.511Z"
      },
      {
        "duration": 4,
        "start_time": "2022-09-25T21:31:38.955Z"
      },
      {
        "duration": 3072,
        "start_time": "2022-09-25T21:31:40.691Z"
      },
      {
        "duration": 3,
        "start_time": "2022-09-25T21:31:58.797Z"
      },
      {
        "duration": 5,
        "start_time": "2022-09-25T21:32:00.527Z"
      },
      {
        "duration": 4092,
        "start_time": "2022-09-25T21:32:01.019Z"
      },
      {
        "duration": 3,
        "start_time": "2022-09-25T21:37:48.685Z"
      },
      {
        "duration": 4,
        "start_time": "2022-09-25T21:37:51.770Z"
      },
      {
        "duration": 4094,
        "start_time": "2022-09-25T21:37:53.055Z"
      },
      {
        "duration": 6,
        "start_time": "2022-09-25T21:45:46.927Z"
      },
      {
        "duration": 4267,
        "start_time": "2022-09-25T21:45:48.442Z"
      },
      {
        "duration": 3,
        "start_time": "2022-09-25T21:45:54.472Z"
      },
      {
        "duration": 5,
        "start_time": "2022-09-25T21:45:56.201Z"
      },
      {
        "duration": 3061,
        "start_time": "2022-09-25T21:45:56.897Z"
      },
      {
        "duration": 4,
        "start_time": "2022-09-25T21:46:41.829Z"
      },
      {
        "duration": 3124,
        "start_time": "2022-09-25T21:46:42.343Z"
      },
      {
        "duration": 4,
        "start_time": "2022-09-25T21:47:25.917Z"
      },
      {
        "duration": 3001,
        "start_time": "2022-09-25T21:47:26.409Z"
      },
      {
        "duration": 1341,
        "start_time": "2022-09-25T21:55:08.332Z"
      },
      {
        "duration": 329,
        "start_time": "2022-09-25T21:55:09.675Z"
      },
      {
        "duration": 3,
        "start_time": "2022-09-25T21:55:10.005Z"
      },
      {
        "duration": 116,
        "start_time": "2022-09-25T21:55:10.010Z"
      },
      {
        "duration": 4,
        "start_time": "2022-09-25T21:55:10.128Z"
      },
      {
        "duration": 298,
        "start_time": "2022-09-25T21:55:10.133Z"
      },
      {
        "duration": 3,
        "start_time": "2022-09-25T21:55:10.521Z"
      },
      {
        "duration": 198,
        "start_time": "2022-09-25T21:55:10.526Z"
      },
      {
        "duration": 0,
        "start_time": "2022-09-25T21:55:10.725Z"
      },
      {
        "duration": 0,
        "start_time": "2022-09-25T21:55:10.726Z"
      },
      {
        "duration": 0,
        "start_time": "2022-09-25T21:55:10.727Z"
      },
      {
        "duration": 0,
        "start_time": "2022-09-25T21:55:10.728Z"
      },
      {
        "duration": 4,
        "start_time": "2022-09-25T21:56:15.727Z"
      },
      {
        "duration": 1377,
        "start_time": "2022-09-25T21:59:26.833Z"
      },
      {
        "duration": 335,
        "start_time": "2022-09-25T21:59:28.211Z"
      },
      {
        "duration": 3,
        "start_time": "2022-09-25T21:59:28.547Z"
      },
      {
        "duration": 114,
        "start_time": "2022-09-25T21:59:28.552Z"
      },
      {
        "duration": 4,
        "start_time": "2022-09-25T21:59:28.668Z"
      },
      {
        "duration": 254,
        "start_time": "2022-09-25T21:59:28.673Z"
      },
      {
        "duration": 92,
        "start_time": "2022-09-25T21:59:28.929Z"
      },
      {
        "duration": 100,
        "start_time": "2022-09-25T21:59:29.024Z"
      },
      {
        "duration": 22,
        "start_time": "2022-09-25T21:59:29.126Z"
      },
      {
        "duration": 18,
        "start_time": "2022-09-25T21:59:29.150Z"
      },
      {
        "duration": 24,
        "start_time": "2022-09-25T21:59:29.169Z"
      },
      {
        "duration": 2988,
        "start_time": "2022-09-25T21:59:29.194Z"
      },
      {
        "duration": 1694,
        "start_time": "2022-09-27T17:01:29.799Z"
      },
      {
        "duration": 916,
        "start_time": "2022-09-27T17:01:31.495Z"
      },
      {
        "duration": 5,
        "start_time": "2022-09-27T17:01:32.412Z"
      },
      {
        "duration": 145,
        "start_time": "2022-09-27T17:01:32.418Z"
      },
      {
        "duration": 6,
        "start_time": "2022-09-27T17:01:32.566Z"
      },
      {
        "duration": 347,
        "start_time": "2022-09-27T17:01:32.574Z"
      },
      {
        "duration": 8,
        "start_time": "2022-09-27T17:01:33.008Z"
      },
      {
        "duration": 103,
        "start_time": "2022-09-27T17:01:33.021Z"
      },
      {
        "duration": 14,
        "start_time": "2022-09-27T17:01:33.126Z"
      },
      {
        "duration": 4,
        "start_time": "2022-09-27T17:01:33.142Z"
      },
      {
        "duration": 7,
        "start_time": "2022-09-27T17:01:33.148Z"
      },
      {
        "duration": 3418,
        "start_time": "2022-09-27T17:01:33.157Z"
      },
      {
        "duration": 1594,
        "start_time": "2022-09-27T17:07:07.724Z"
      },
      {
        "duration": 367,
        "start_time": "2022-09-27T17:07:09.320Z"
      },
      {
        "duration": 3,
        "start_time": "2022-09-27T17:07:09.688Z"
      },
      {
        "duration": 153,
        "start_time": "2022-09-27T17:07:09.693Z"
      },
      {
        "duration": 9,
        "start_time": "2022-09-27T17:07:09.849Z"
      },
      {
        "duration": 256,
        "start_time": "2022-09-27T17:07:09.860Z"
      },
      {
        "duration": 3,
        "start_time": "2022-09-27T17:07:10.118Z"
      },
      {
        "duration": 89,
        "start_time": "2022-09-27T17:07:10.123Z"
      },
      {
        "duration": 108,
        "start_time": "2022-09-27T17:07:10.214Z"
      },
      {
        "duration": 7,
        "start_time": "2022-09-27T17:07:10.325Z"
      },
      {
        "duration": 8,
        "start_time": "2022-09-27T17:07:10.334Z"
      },
      {
        "duration": 3830,
        "start_time": "2022-09-27T17:07:10.344Z"
      }
    ],
    "kernelspec": {
      "display_name": "Python 3 (ipykernel)",
      "language": "python",
      "name": "python3"
    },
    "language_info": {
      "codemirror_mode": {
        "name": "ipython",
        "version": 3
      },
      "file_extension": ".py",
      "mimetype": "text/x-python",
      "name": "python",
      "nbconvert_exporter": "python",
      "pygments_lexer": "ipython3",
      "version": "3.9.5"
    },
    "toc": {
      "base_numbering": 1,
      "nav_menu": {
        "height": "263px",
        "width": "533px"
      },
      "number_sections": true,
      "sideBar": true,
      "skip_h1_title": true,
      "title_cell": "Table of Contents",
      "title_sidebar": "Contents",
      "toc_cell": false,
      "toc_position": {
        "height": "calc(100% - 180px)",
        "left": "10px",
        "top": "150px",
        "width": "230.523px"
      },
      "toc_section_display": true,
      "toc_window_display": false
    },
    "colab": {
      "provenance": [],
      "collapsed_sections": [],
      "toc_visible": true
    }
  },
  "nbformat": 4,
  "nbformat_minor": 0
}